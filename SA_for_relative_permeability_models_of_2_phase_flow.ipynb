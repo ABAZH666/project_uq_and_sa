{
 "cells": [
  {
   "cell_type": "markdown",
   "id": "general-bloom",
   "metadata": {},
   "source": [
    "# 1.1 Two-phase flow model"
   ]
  },
  {
   "cell_type": "markdown",
   "id": "legal-period",
   "metadata": {},
   "source": [
    "The water-oil displacement in a petroleum reservoir can be approximated\n",
    "with the Buckley-Leverett (BL) model. The two-phase transport in a porous medium using the BL model can be described by **Equation 1**."
   ]
  },
  {
   "cell_type": "markdown",
   "id": "unlikely-roller",
   "metadata": {},
   "source": [
    "**Eq. 1**\n",
    "\n",
    "\\begin{equation}\n",
    "\\frac{\\partial S_{w}}{\\partial t}+\\frac{q}{\\varphi a} \\frac{\\partial}{\\partial x}(f)=0, \\text { in } \\Omega \\times[0, T]\n",
    "\\end{equation}"
   ]
  },
  {
   "cell_type": "markdown",
   "id": "computational-relaxation",
   "metadata": {},
   "source": [
    "where\n",
    "\n",
    "- **q** - total influx,\n",
    "\n",
    "- **a** - core sample cross section area,\n",
    "\n",
    "- **𝜑** - matrix porosity\n"
   ]
  },
  {
   "cell_type": "markdown",
   "id": "numerous-swaziland",
   "metadata": {},
   "source": [
    "\\begin{equation}\n",
    "S_{w}=S_{w}(x, t) \\text {-denotes the water saturation}\n",
    "\\end{equation}"
   ]
  },
  {
   "cell_type": "markdown",
   "id": "structured-window",
   "metadata": {},
   "source": [
    "- **𝑓** - fractional flow function\n",
    "\n",
    "**Eq. 2** \n",
    "\n",
    "\\begin{equation}\n",
    "f=\\frac{\\boldsymbol{\\kappa}_{r w}}{\\boldsymbol{\\kappa}_{r w}+\\left(\\frac{\\mu_{w}}{\\mu_{o}}\\right) \\boldsymbol{\\kappa}_{r o}}\n",
    "\\end{equation}"
   ]
  },
  {
   "cell_type": "markdown",
   "id": "guilty-mystery",
   "metadata": {},
   "source": [
    "where\n",
    "\n",
    "\\begin{equation}\n",
    "\\kappa_{r w}=\\kappa_{r w}\\left(S_{w}\\right) \\text { и } \\kappa_{r o}=\\kappa_{r o}\\left(S_{w}\\right) \\text { - the water and oil phase relative permeabilities, respectively}\n",
    "\\end{equation}\n"
   ]
  },
  {
   "cell_type": "markdown",
   "id": "purple-shade",
   "metadata": {},
   "source": [
    "\\begin{equation}\n",
    "\\mu_{w} \\text { , } \\mu_{o} \\text {- water and oil viscosities, respectively}\n",
    "\\end{equation} "
   ]
  },
  {
   "cell_type": "markdown",
   "id": "interstate-defense",
   "metadata": {},
   "source": [
    "### initial conditions:"
   ]
  },
  {
   "cell_type": "markdown",
   "id": "greater-harris",
   "metadata": {},
   "source": [
    "**Eq. 3**\n",
    "\\begin{equation}\n",
    "S_{w}(x, 0)=S_{w 0}\n",
    "\\end{equation}"
   ]
  },
  {
   "cell_type": "markdown",
   "id": "pressed-custody",
   "metadata": {},
   "source": [
    "### boundary conditions:"
   ]
  },
  {
   "cell_type": "markdown",
   "id": "turned-founder",
   "metadata": {},
   "source": [
    "**Eq. 4**\n",
    "\\begin{equation}\n",
    "S_{w}(0, t)=1.0-S_{o 0}\n",
    "\\end{equation}"
   ]
  },
  {
   "cell_type": "markdown",
   "id": "bound-prime",
   "metadata": {},
   "source": [
    "the maximum of water is injected at a constant flow rate of **q**"
   ]
  },
  {
   "cell_type": "code",
   "execution_count": null,
   "id": "uniform-edwards",
   "metadata": {},
   "outputs": [],
   "source": [
    "## Google Colab ations \n",
    "#!pip install salib\n",
    "#!pip install tqdm\n",
    "#!git clone https://github.com/ABAZH666/project_uq_and_sa.git\n",
    "#%cd project_uq_and_sa/\n"
   ]
  },
  {
   "cell_type": "code",
   "execution_count": 197,
   "id": "distinguished-terrace",
   "metadata": {},
   "outputs": [],
   "source": [
    "# The initial code was provided by sonny-qa \n",
    "# LINK [https://github.com/sonny-qa/buckley-leverett/blob/master/buckley-lev.ipynb]\n",
    "import numpy as np\n",
    "import pandas as pd\n",
    "from scipy import interpolate\n",
    "import matplotlib.pyplot as plt\n",
    "from matplotlib.patches import Polygon\n",
    "import tqdm\n",
    "import math\n",
    "\n",
    "import warnings\n"
   ]
  },
  {
   "cell_type": "code",
   "execution_count": 198,
   "id": "cellular-salad",
   "metadata": {},
   "outputs": [],
   "source": [
    "warnings.filterwarnings('ignore')"
   ]
  },
  {
   "cell_type": "code",
   "execution_count": 62,
   "id": "portuguese-latest",
   "metadata": {},
   "outputs": [],
   "source": [
    "class BuckleyLev():\n",
    "    \n",
    "    def __init__(self, porosity, viscosity_w, viscosity_o, diam, length, rate, initial_sw, residual_o, residual_w, kroe, krwe):\n",
    "        self.params = {\n",
    "            #OIL phase viscosity /// our case 𝜇o (non wetting phase)\n",
    "            \"viscosity_o\": viscosity_o,\n",
    "            \n",
    "            #WATER phase viscosity /// our case 𝜇𝑤 (wetting phase)\n",
    "            \"viscosity_w\": viscosity_w,\n",
    "            \n",
    "            #initial water sat /// our case Sw, in the initial conditions Sw=Sw0\n",
    "            \"initial_sw\":initial_sw,\n",
    "            \n",
    "            #residual water saturation, Swirr (irreducible) /// our case 𝑆w0  - connate water saturation \n",
    "            \"residual_w\":residual_w,\n",
    "            \n",
    "            #residual oil saturation, Sor /// our case 𝑆𝑜0\n",
    "            \"residual_o\": residual_o,\n",
    "            \n",
    "            #water rel perm at water curve end point\n",
    "            \"krwe\":krwe,\n",
    "            \n",
    "            #oil rel perm at oil curve end point\n",
    "            \"kroe\": kroe,\n",
    "            \n",
    "            #dimless velocity results\n",
    "            'vd_array':[],\n",
    "            \n",
    "            #porosity\n",
    "            'poro':porosity,\n",
    "            \n",
    "            #water injection rate units TBD\n",
    "            \"inject_rate\":rate,\n",
    "            \n",
    "            #cross sectional area units TBD\n",
    "            \"x-area\": ((diam * 1.)/2 **2) * math.pi * length\n",
    "        }\n",
    "        \n",
    "    def k_rw(self,sw):\n",
    "        #water relative perm calculation for a given water saturation \n",
    "        p = self.params[\"inject_rate\"]\n",
    "        return ((self.params['krwe']))*sw**p\n",
    "    \n",
    "    def k_rn(self,sw):\n",
    "        #oil relative perm calculation for a given water saturation \n",
    "        q = self.params[\"inject_rate\"]\n",
    "        return ((1.-self.params['kroe']*sw)**q)\n",
    "    \n",
    "    def fractional_flow(self,sw):\n",
    "        #returns the fractional flow\n",
    "\n",
    "        return 1./(1.+((self.k_rn(sw)/self.k_rw(sw))*(self.params[\"viscosity_w\"]/self.params[\"viscosity_o\"])))\n",
    "    \n",
    "    def fractional_flow_deriv(self,sw):\n",
    "        #calculate derivative of fractional flow - dFw/dSw - Vsh\n",
    "\n",
    "        f_deriv = (self.fractional_flow(sw+0.0001) - self.fractional_flow(sw))/0.0001\n",
    "\n",
    "        return f_deriv\n",
    "    \n",
    "    def fractional_flow_2deriv(self,sw):\n",
    "        f_2deriv = ((self.fractional_flow(sw+0.01))-2*(self.fractional_flow(sw))-self.fractional_flow(sw-0.01))/((0.01)**2)\n",
    "        return f_2deriv\n",
    "    \n",
    "    def plot_fractional_flow_deriv(self, y):\n",
    "        #plot the derivative dFw/dSw - Vsh vs Sw\n",
    "        #y = np.linspace(self.params[\"residual_w\"]+1e-3,(1-self.params[\"residual_o\"]+1e-3),50)\n",
    "        x = [self.fractional_flow_deriv(i) for i in y ]\n",
    "\n",
    "        plt.plot(x,y)\n",
    "        plt.title('Derivative of fractional flow curve')\n",
    "        plt.xlabel('dfw/dSw')\n",
    "        plt.ylabel('Sw')\n",
    "        plt.show()\n",
    "        \n",
    "        \n",
    "    def sw_at_shock_front(self, y): \n",
    "        #first find range to search in by looking where 2nd derivative is negative (where curve turns)\n",
    "\n",
    "        #sw_start = 1.-self.params['residual_o']\n",
    "        #sw_end = self.params['residual_w']\n",
    "\n",
    "\n",
    "        #for sw in np.arange(self.params['residual_w']+1.e-9, 1.-self.params['residual_o'],0.001):\n",
    "        for sw in y:\n",
    "            if (self.fractional_flow_2deriv(sw)< -1.e-2 and sw < y[0]):\n",
    "                #i.e. we are below sw_start and the grad is negative - update upper limit\n",
    "                sw_start = sw\n",
    "            if (self.fractional_flow_2deriv(sw)< -1.e-2 and sw > y[-1]):\n",
    "                # i.e. we are above sw_end and the gradient is negative - update lower limit\n",
    "                sw_end = sw\n",
    "\n",
    "\n",
    "        sw_at_front = 0.\n",
    "        current_min = 1000.\n",
    "\n",
    "        #find where finite difference approximation (almost) equals the continuous value of the function\n",
    "        #for sw in np.arange(sw_start,sw_end, 0.0001):\n",
    "        for sw in y:\n",
    "\n",
    "            current_diff = abs(self.fractional_flow_deriv(sw)-self.fractional_flow(sw)/sw)\n",
    "            #print( 'grad func',self.fractional_flow_deriv(sw),sw,self.fractional_flow(sw)/sw)\n",
    "            #print('approx',self.fractional_flow(sw)/sw, sw)\n",
    "            if current_diff < current_min:\n",
    "                #print('sw at front',current_min, sw,current_diff)\n",
    "                current_min = current_diff\n",
    "                sw_at_front = sw\n",
    "\n",
    "                current_min = current_diff\n",
    "\n",
    "        return sw_at_front\n",
    "\n",
    "    def plot_fractional_flow(self, x):\n",
    "        #plot the sw vs fractional flow\n",
    "\n",
    "        #x = np.linspace(self.params[\"residual_w\"]+1e-3,(1-self.params[\"residual_o\"]+1e-3),100)\n",
    "        #x = np.linspace(self.params[\"residual_w\"]+1e-3,(1),100)\n",
    "        y = [self.fractional_flow(i) for i in x ]\n",
    "\n",
    "        plt.plot(x,y)\n",
    "\n",
    "        #sw_at_front = self.sw_at_shock_front()\n",
    "        #plt.plot([sw_at_front],[self.fractional_flow(sw_at_front)],'ro')\n",
    "\n",
    "        plt.title('Fractional flow as a function of water saturation')\n",
    "        plt.xlabel('Sw')\n",
    "        plt.ylabel('Fractional flow')\n",
    "        #plt.ylim([0,0.5])\n",
    "        plt.xlim([0,1])\n",
    "\n",
    "        #add limiting fractional flow lines\n",
    "        plt.hlines(y[len(y)-1],0,1,linestyles='dashed',lw=2, colors='0.4')\n",
    "        plt.annotate('fw max: %.4f' % y[len(y)-1],xy=(0.08,0.95))\n",
    "\n",
    "\n",
    "        plt.show()\n",
    "        #print(y[len(y)-1])\n",
    "        \n",
    "        \n",
    "    def displacement_plot(self, y):\n",
    "        #using the shock front velocity, plot the displacement profile\n",
    "        v_sh = self.sw_at_shock_front(y)\n",
    "\n",
    "        #y = np.linspace(self.params[\"residual_w\"]+1e-3,(1-self.params[\"residual_o\"]+1e-3),50)\n",
    "        x = [self.fractional_flow_deriv(i) for i in y if self.fractional_flow_deriv(i)>v_sh ]\n",
    "\n",
    "\n",
    "        return x \n",
    "    \n",
    "    def rarefaction_plot(self, x):\n",
    "        # it should calculate the shock velocity and the corresponding saturation which this occurs an\n",
    "\n",
    "        #create dx window of increasing size for calculating welge\n",
    "        #x = np.linspace(self.params[\"residual_w\"]+1e-3,(1-self.params[\"residual_o\"]+1e-3),50)\n",
    "\n",
    "        maximum, sw_shock = 0,0\n",
    "        grads = []\n",
    "\n",
    "        # to do - add flag to allow BL_time function to calcuate sw values from supplied Xd values\n",
    "        ## calculate welge gradient at each point until we find the max = shock velocity\n",
    "\n",
    "        for swi in x:\n",
    "            grad = self.fractional_flow(swi)/(swi-self.params[\"residual_w\"]+1e-3)\n",
    "            # vd = xd/td\n",
    "            grads.append(grad)\n",
    "\n",
    "            if grad>maximum:\n",
    "                sw_shock = swi\n",
    "                maximum = grad\n",
    "\n",
    "        #find the position of the shock velocity in the grads array and slice to this point for the rarefaction \n",
    "        #plus one to include the actual shock velocity. Reverse to get the values in the right order\n",
    "        rarefaction = (grads[:([i for i,j in enumerate(grads) if j == maximum][0]+1)])\n",
    "        rarefaction.sort(reverse=True)\n",
    "\n",
    "        y = x[:(len(rarefaction))]\n",
    "\n",
    "        #save calculated grads to instance \n",
    "        print(rarefaction[0], rarefaction, y)\n",
    "        for v in rarefaction:\n",
    "            self.params['vd_array'].append(v)\n",
    "\n",
    "        #plot rarefaction part \n",
    "        plt.plot(rarefaction,y,'b',lw=2)\n",
    "\n",
    "        #highlight vshock point\n",
    "        #plt.plot(rarefaction[0],y[0],'ro')\n",
    "        plt.plot(rarefaction[1],y[1],'ro')\n",
    "\n",
    "        #add the part ahead of the shock front\n",
    "        plt.vlines(rarefaction[0],y[0],self.params[\"initial_sw\"],'b',lw=2)\n",
    "        plt.hlines(self.params[\"initial_sw\"],rarefaction[0],rarefaction[0]+1,'b',lw=2)\n",
    "\n",
    "        #add saturation lines\n",
    "        #plt.hlines(self.params[\"initial_sw\"],0,rarefaction[0],linestyles='dashed',lw=2,colors='0.4')\n",
    "        plt.hlines(y[1],0,rarefaction[1],linestyles='dashed',lw=2,colors='0.4')\n",
    "        plt.hlines(y[0],0,rarefaction[0],linestyles='dashed',lw=2, colors='0.4')\n",
    "        plt.vlines(rarefaction[0],-2,self.params[\"initial_sw\"],linestyles='dashed',lw=2, colors='0.4')\n",
    "\n",
    "        # add annotations\n",
    "        plt.annotate('V shock',xy=(rarefaction[0]+0.02,y[0]+0.02))\n",
    "        plt.annotate('Sw f',xy=(0+0.04,y[0]-0.05))\n",
    "        plt.annotate('Sw i',xy=(0+0.04,y[1]-0.05))#self.params[\"initial_sw\"]-0.05))\n",
    "\n",
    "\n",
    "        #ad vdmin if the min velocity values is not zero \n",
    "        if (rarefaction[len(rarefaction)-1]>0.e-22):\n",
    "            plt.hlines(y[len(y)-1],0,rarefaction[len(rarefaction)-1],'b',lw=2)\n",
    "            plt.plot(rarefaction[len(rarefaction)-1],y[len(y)-1],'ro')\n",
    "            plt.annotate('V min',xy=((rarefaction[len(rarefaction)-1]+0.08),(y[len(y)-1])))\n",
    "            plt.vlines(rarefaction[len(rarefaction)-1],y[len(y)-1],0,linestyles='dashed',lw=2, colors='0.4')\n",
    "            plt.annotate('Sw c',xy=(0+0.04,1-self.params[\"residual_o\"]+0.03))\n",
    "\n",
    "        plt.xlabel('Dimensionless Velocity, Vd = xd/td')\n",
    "        plt.ylabel('Saturation')\n",
    "\n",
    "        plt.ylim([0,1])\n",
    "        plt.xlim([-0.1,rarefaction[0]+1])\n",
    "        plt.title('Saturation profile velocity')\n",
    "        plt.show()\n"
   ]
  },
  {
   "cell_type": "markdown",
   "id": "consecutive-gambling",
   "metadata": {},
   "source": [
    "# Cherie"
   ]
  },
  {
   "cell_type": "code",
   "execution_count": 63,
   "id": "minute-zimbabwe",
   "metadata": {},
   "outputs": [],
   "source": [
    "class Cherie():\n",
    "    \n",
    "    def __init__(self , initial_sw, residual_w, residual_o, krwe, kroe, viscosity_o, viscosity_w):\n",
    "        self.B = 1.\n",
    "        self.M = 1.\n",
    "        self.A = 1.\n",
    "        self.L = 1.\n",
    "        self.params = {\n",
    " \n",
    "            #initial water sat /// our case Sw, in the initial conditions Sw=Sw0\n",
    "            \"initial_sw\":initial_sw,\n",
    "            \n",
    "            #residual water saturation, Swirr (irreducible) /// our case 𝑆w0  - connate water saturation \n",
    "            \"residual_w\":residual_w,\n",
    "            \n",
    "            #residual oil saturation, Sor /// our case 𝑆𝑜0\n",
    "            \"residual_o\": residual_o,\n",
    "            \n",
    "            #water rel perm at water curve end point\n",
    "            \"krwe\":krwe,\n",
    "            \n",
    "            #oil rel perm at oil curve end point\n",
    "            \"kroe\": kroe,\n",
    "            \n",
    "            #OIL phase viscosity /// our case 𝜇o (non wetting phase)\n",
    "            \"viscosity_o\": viscosity_o,\n",
    "            \n",
    "            #WATER phase viscosity /// our case 𝜇𝑤 (wetting phase)\n",
    "            \"viscosity_w\": viscosity_w,\n",
    "\n",
    "        }\n",
    "        \n",
    "                 \n",
    "    def calc_krw(self, sw):\n",
    "        return self.params['krwe']*math.e**(-self.B*(((sw-self.params['residual_w']+0.00001)/(1-sw-self.params['residual_o']))**(-self.M)))\n",
    "                                            \n",
    "    def calc_kro(self, sw):\n",
    "        return self.params['kroe']*math.e**(-self.A*(((sw-self.params['residual_w']+0.00001)/(1-sw-self.params['residual_o']))**(-self.L)))\n",
    "                                                                                                                            \n",
    "                 \n",
    "    def fractional_flow(self,sw):\n",
    "        #returns the fractional flow\n",
    "        return self.calc_krw(sw)/(self.calc_krw(sw)+(self.params['viscosity_w'] / self.params['viscosity_o'])*self.calc_kro(sw)+0.0001)\n",
    "        #return 1./(1.+((self.k_rn(sw)/self.k_rw(sw))*(self.params[\"viscosity_w\"]/self.params[\"viscosity_o\"])))          \n",
    "        \n",
    "        \n",
    "    def plot_fractional_flow(self, x):\n",
    "        #plot the sw vs fractional flow\n",
    "\n",
    "        #x = np.linspace(self.params[\"residual_w\"]+1e-3,(1-self.params[\"residual_o\"]+1e-3),100)\n",
    "        #x = np.linspace(self.params[\"residual_w\"]+1e-3,(1),100)\n",
    "        y = [self.fractional_flow(i) for i in x ]\n",
    "\n",
    "        plt.plot(x,y)\n",
    "\n",
    "        #sw_at_front = self.sw_at_shock_front()\n",
    "        #plt.plot([sw_at_front],[self.fractional_flow(sw_at_front)],'ro')\n",
    "\n",
    "        plt.title('Fractional flow as a function of water saturation')\n",
    "        plt.xlabel('Sw')\n",
    "        plt.ylabel('Fractional flow')\n",
    "        #plt.ylim([0,0.5])\n",
    "        plt.xlim([0,1])\n",
    "\n",
    "        #add limiting fractional flow lines\n",
    "        plt.hlines(y[len(y)-1],0,1,linestyles='dashed',lw=2, colors='0.4')\n",
    "        plt.annotate('fw max: %.4f' % y[len(y)-1],xy=(0.08,0.95))\n",
    "\n",
    "\n",
    "        plt.show()\n",
    "        #print(y[len(y)-1])\n",
    "        \n",
    "        \n",
    "\n",
    "    def rarefaction_plot(self, x):\n",
    "        # it should calculate the shock velocity and the corresponding saturation which this occurs an\n",
    "\n",
    "        #create dx window of increasing size for calculating welge\n",
    "        #x = np.linspace(self.params[\"residual_w\"]+1e-3,(1-self.params[\"residual_o\"]+1e-3),50)\n",
    "\n",
    "        maximum, sw_shock = 0,0\n",
    "        grads = []\n",
    "\n",
    "        # to do - add flag to allow BL_time function to calcuate sw values from supplied Xd values\n",
    "        ## calculate welge gradient at each point until we find the max = shock velocity\n",
    "\n",
    "        for swi in x:\n",
    "            grad = self.fractional_flow(swi)/(swi-self.params[\"residual_w\"]+1e-3)\n",
    "            # vd = xd/td\n",
    "            grads.append(grad.real)\n",
    "            #print(self.fractional_flow(swi), swi-self.params[\"residual_w\"]+1e-3,  grad)\n",
    "\n",
    "            if grad.real>maximum:\n",
    "                sw_shock = swi\n",
    "                maximum = grad.real\n",
    "        #print(grads)\n",
    "        #find the position of the shock velocity in the grads array and slice to this point for the rarefaction \n",
    "        #plus one to include the actual shock velocity. Reverse to get the values in the right order\n",
    "        #rarefaction = (grads[:([i for i,j in enumerate(grads) if j == maximum][0]+1)])\n",
    "        #rarefaction = (grads[:([i for i,j in enumerate(grads)][0]+1)])\n",
    "        rarefaction=grads\n",
    "        rarefaction.sort(reverse=True)\n",
    "\n",
    "        y = x[:(len(rarefaction))]\n",
    "        #print(y)\n",
    "        #print(rarefaction)\n",
    "\n",
    "        #save calculated grads to instance \n",
    "        #print(rarefaction[0], rarefaction, y)\n",
    "        #for v in rarefaction:\n",
    "        #    self.params['vd_array'].append(v)\n",
    "\n",
    "        #plot rarefaction part \n",
    "        plt.plot(rarefaction,y,'b',lw=2)\n",
    "\n",
    "        #highlight vshock point\n",
    "        #plt.plot(rarefaction[0],y[0],'ro')\n",
    "        plt.plot(rarefaction[5],y[5],'ro')\n",
    "\n",
    "        #add the part ahead of the shock front\n",
    "        plt.vlines(rarefaction[0],y[0],self.params[\"initial_sw\"],'b',lw=2)\n",
    "        plt.hlines(self.params[\"initial_sw\"],rarefaction[0],rarefaction[0]+1,'b',lw=2)\n",
    "\n",
    "        #add saturation lines\n",
    "        #plt.hlines(self.params[\"initial_sw\"],0,rarefaction[0],linestyles='dashed',lw=2,colors='0.4')\n",
    "        plt.hlines(y[5],0,rarefaction[5],linestyles='dashed',lw=2,colors='0.4')\n",
    "        plt.hlines(y[0],0,rarefaction[0],linestyles='dashed',lw=2, colors='0.4')\n",
    "        plt.vlines(rarefaction[0],-2,self.params[\"initial_sw\"],linestyles='dashed',lw=2, colors='0.4')\n",
    "\n",
    "        # add annotations\n",
    "        plt.annotate('V shock',xy=(rarefaction[5]+0.02,y[5]+0.02))\n",
    "        plt.annotate('Sw f',xy=(0+0.04,y[0]-0.05))\n",
    "        plt.annotate('Sw i',xy=(0+0.04,y[1]-0.05))#self.params[\"initial_sw\"]-0.05))\n",
    "\n",
    "\n",
    "        #ad vdmin if the min velocity values is not zero \n",
    "        if (rarefaction[len(rarefaction)-1]>0.e-22):\n",
    "            plt.hlines(y[len(y)-1],0,rarefaction[len(rarefaction)-1],'b',lw=2)\n",
    "            plt.plot(rarefaction[len(rarefaction)-1],y[len(y)-1],'ro')\n",
    "            plt.annotate('V min',xy=((rarefaction[len(rarefaction)-1]+0.08),(y[len(y)-1])))\n",
    "            plt.vlines(rarefaction[len(rarefaction)-1],y[len(y)-1],0,linestyles='dashed',lw=2, colors='0.4')\n",
    "            plt.annotate('Sw c',xy=(0+0.04,1-self.params[\"residual_o\"]+0.03))\n",
    "\n",
    "        plt.xlabel('Dimensionless Velocity, Vd = xd/td')\n",
    "        plt.ylabel('Saturation')\n",
    "\n",
    "        plt.ylim([0,1])\n",
    "        plt.xlim([0,rarefaction[0]+1])\n",
    "        plt.title('Saturation profile velocity')\n",
    "        plt.show()\n",
    "        \n",
    "    def sobol_target_function(self, x):\n",
    "        # it should calculate the shock velocity and the corresponding saturation which this occurs an\n",
    "\n",
    "        #create dx window of increasing size for calculating welge\n",
    "        #x = np.linspace(self.params[\"residual_w\"]+1e-3,(1-self.params[\"residual_o\"]+1e-3),50)\n",
    "\n",
    "        maximum, sw_shock = 0,0\n",
    "        grads = []\n",
    "\n",
    "        # to do - add flag to allow BL_time function to calcuate sw values from supplied Xd values\n",
    "        ## calculate welge gradient at each point until we find the max = shock velocity\n",
    "\n",
    "        for swi in x:\n",
    "            grad = self.fractional_flow(swi)/(swi-self.params[\"residual_w\"]+1e-3)\n",
    "            grads.append(grad.real)\n",
    "\n",
    "            if grad.real>maximum:\n",
    "                sw_shock = swi\n",
    "                maximum = grad.real\n",
    "\n",
    "        rarefaction=grads\n",
    "        rarefaction.sort(reverse=True)\n",
    "\n",
    "        y = x[:(len(rarefaction))]\n",
    "        return rarefaction[5], y[5]\n"
   ]
  },
  {
   "cell_type": "code",
   "execution_count": 64,
   "id": "increasing-wichita",
   "metadata": {
    "scrolled": true
   },
   "outputs": [],
   "source": [
    "qi1 = pd.read_excel(\"./datasets/dataset1.xlsx\")\n",
    "swlist1=list(qi1['Sw'])\n",
    "krw1=list(qi1['Krw'])\n",
    "kro1=list(qi1['Kro'])"
   ]
  },
  {
   "cell_type": "code",
   "execution_count": 65,
   "id": "junior-cholesterol",
   "metadata": {},
   "outputs": [],
   "source": [
    "ch2=Cherie(\n",
    "                viscosity_w = 0.306, \n",
    "                viscosity_o = 0.670, \n",
    "                initial_sw = 0.2, \n",
    "                residual_o = 0.26, \n",
    "                residual_w = 0.2, \n",
    "                kroe = 0.95, \n",
    "                krwe = 0.3)"
   ]
  },
  {
   "cell_type": "code",
   "execution_count": 66,
   "id": "champion-congress",
   "metadata": {},
   "outputs": [],
   "source": [
    "qi2 = pd.read_excel(\"./datasets/dataset2.xlsx\")\n",
    "swlist2=list(qi2['Sw'])\n",
    "krw2=list(qi2['Krw'])\n",
    "kro2=list(qi2['Kro'])"
   ]
  },
  {
   "cell_type": "code",
   "execution_count": 67,
   "id": "worldwide-agenda",
   "metadata": {},
   "outputs": [],
   "source": [
    "ch1=Cherie(\n",
    "                viscosity_w = 0.65, \n",
    "                viscosity_o = 1.25, \n",
    "\n",
    "                initial_sw = 0.15, \n",
    "                residual_o = 0.35, \n",
    "                residual_w = 0.15, \n",
    "                kroe = 0.65, \n",
    "                krwe = 0.25)"
   ]
  },
  {
   "cell_type": "code",
   "execution_count": 68,
   "id": "desirable-quarterly",
   "metadata": {},
   "outputs": [
    {
     "data": {
      "text/plain": [
       "0.17897393575103684"
      ]
     },
     "execution_count": 68,
     "metadata": {},
     "output_type": "execute_result"
    }
   ],
   "source": [
    "ch1.fractional_flow(swlist1[0])"
   ]
  },
  {
   "cell_type": "code",
   "execution_count": 69,
   "id": "tender-speed",
   "metadata": {},
   "outputs": [],
   "source": [
    "#вместо mcmc используется gridsearch + SALib library"
   ]
  },
  {
   "cell_type": "code",
   "execution_count": 70,
   "id": "sound-calgary",
   "metadata": {},
   "outputs": [],
   "source": [
    "def get_error(ch, swlist, kro, krw):\n",
    "    cur_error=0\n",
    "    for i in range(len(swlist)):\n",
    "        cur_krw = ch.calc_krw(swlist[i])\n",
    "        cur_kro = ch.calc_kro(swlist[i])\n",
    "        cur_error += np.abs(kro[i]-cur_kro)**2+np.abs(krw[i]-cur_krw)**2\n",
    "    return cur_error\n",
    "\n",
    "\n",
    "def find_params(ch, swlist, kro, krw, al, ar, ll, lr, bl, br, ml, mr):\n",
    "    glob_error=10**10\n",
    "    glob_params=[-1, -1, -1, -1]\n",
    "\n",
    "    for A in range(al, ar):\n",
    "        ch.A=A/100\n",
    "        for L in range(ll , lr):\n",
    "            ch.L=L/100\n",
    "            for B in range(bl, br):\n",
    "                ch.B=B/100\n",
    "                for M in range(ml, mr):\n",
    "                    ch.M=M/100\n",
    "                    cur_error = get_error(ch, swlist, kro, krw)\n",
    "                    if cur_error < glob_error:\n",
    "                        glob_error = cur_error\n",
    "                        glob_params = [ch.A, ch.L, ch.B, ch.M]\n",
    "\n",
    "    print(glob_error, glob_params)\n",
    "    return glob_params"
   ]
  },
  {
   "cell_type": "code",
   "execution_count": 71,
   "id": "hindu-remainder",
   "metadata": {
    "scrolled": true
   },
   "outputs": [
    {
     "name": "stdout",
     "output_type": "stream",
     "text": [
      "9.84548795563146 [1.47, 0.6, 2.83, 0.71]\n"
     ]
    }
   ],
   "source": [
    "ch1.A, ch1.L, ch1.B, ch1.M=find_params(ch1,  swlist1, kro1, krw1,\\\n",
    "                                       147, 159, 60, 68, 283, 296, 64, 72)"
   ]
  },
  {
   "cell_type": "code",
   "execution_count": 72,
   "id": "forward-frederick",
   "metadata": {},
   "outputs": [],
   "source": [
    "#ch1.plot_fractional_flow(swlist1)"
   ]
  },
  {
   "cell_type": "code",
   "execution_count": 73,
   "id": "experienced-hammer",
   "metadata": {
    "scrolled": false
   },
   "outputs": [
    {
     "data": {
      "image/png": "[encoded data removed]",
      "text/plain": [
       "<Figure size 432x288 with 1 Axes>"
      ]
     },
     "metadata": {
      "needs_background": "light"
     },
     "output_type": "display_data"
    }
   ],
   "source": [
    "ch1.rarefaction_plot(swlist1)"
   ]
  },
  {
   "cell_type": "code",
   "execution_count": 74,
   "id": "satisfactory-switzerland",
   "metadata": {
    "scrolled": true
   },
   "outputs": [
    {
     "name": "stdout",
     "output_type": "stream",
     "text": [
      "234478257.7869995 [2.03, 0.47, 1.86, 0.8]\n"
     ]
    }
   ],
   "source": [
    "ch2.A, ch2.L, ch2.B, ch2.M=find_params(ch2,  swlist2, kro2, krw2, 191, 206, 42, 49, 186, 204, 80, 97)"
   ]
  },
  {
   "cell_type": "code",
   "execution_count": 75,
   "id": "urban-equivalent",
   "metadata": {},
   "outputs": [],
   "source": [
    "#ch2.plot_fractional_flow(swlist2)"
   ]
  },
  {
   "cell_type": "code",
   "execution_count": 76,
   "id": "compact-metadata",
   "metadata": {
    "scrolled": false
   },
   "outputs": [
    {
     "data": {
      "image/png": "[encoded data removed]",
      "text/plain": [
       "<Figure size 432x288 with 1 Axes>"
      ]
     },
     "metadata": {
      "needs_background": "light"
     },
     "output_type": "display_data"
    }
   ],
   "source": [
    "ch2.rarefaction_plot(swlist2)"
   ]
  },
  {
   "cell_type": "markdown",
   "id": "demonstrated-fitting",
   "metadata": {},
   "source": [
    "# LET"
   ]
  },
  {
   "cell_type": "code",
   "execution_count": 77,
   "id": "occasional-payday",
   "metadata": {},
   "outputs": [],
   "source": [
    "class LET():\n",
    "    \n",
    "    def __init__(self , initial_sw, residual_w, residual_o, krwe, kroe, viscosity_o, viscosity_w):\n",
    "        self.Lw = 1.\n",
    "        self.Lo = 1.\n",
    "        self.Ew = 1.\n",
    "        self.Eo = 1.\n",
    "        self.Tw = 1.\n",
    "        self.To = 1.\n",
    "        self.params = {\n",
    " \n",
    "            #initial water sat /// our case Sw, in the initial conditions Sw=Sw0\n",
    "            \"initial_sw\":initial_sw,\n",
    "            \n",
    "            #residual water saturation, Swirr (irreducible) /// our case 𝑆w0  - connate water saturation \n",
    "            \"residual_w\":residual_w,\n",
    "            \n",
    "            #residual oil saturation, Sor /// our case 𝑆𝑜0\n",
    "            \"residual_o\": residual_o,\n",
    "            \n",
    "            #water rel perm at water curve end point\n",
    "            \"krwe\":krwe,\n",
    "            \n",
    "            #oil rel perm at oil curve end point\n",
    "            \"kroe\": kroe,\n",
    "            \n",
    "            #OIL phase viscosity /// our case 𝜇o (non wetting phase)\n",
    "            \"viscosity_o\": viscosity_o,\n",
    "            \n",
    "            #WATER phase viscosity /// our case 𝜇𝑤 (wetting phase)\n",
    "            \"viscosity_w\": viscosity_w,\n",
    "\n",
    "        }\n",
    "        \n",
    "                 \n",
    "    def calc_krw(self, sw):\n",
    "        #effective water saturation\n",
    "        Swe = (sw-self.params['residual_w'])/(1-sw-self.params['residual_o'])\n",
    "        return self.params['krwe']*((Swe**self.Lw)/(Swe**self.Lw + self.Ew*((1 - Swe)**self.Tw)))\n",
    "        \n",
    "                                            \n",
    "    def calc_kro(self, sw):\n",
    "        Swe = (sw-self.params['residual_w'])/(1-sw-self.params['residual_o'])\n",
    "        #print(Swe, self.Lo, self.To)\n",
    "        return self.params['kroe']*((1- Swe)**self.Lo)/(((1 - Swe)**self.Lo)+self.Eo*(Swe**self.To))\n",
    "                                                                                                                                    \n",
    "                 \n",
    "    def fractional_flow(self,sw):\n",
    "        #returns the fractional flow\n",
    "        return self.calc_krw(sw)/(self.calc_krw(sw)+(self.params['viscosity_w'] / self.params['viscosity_o'])*self.calc_kro(sw)+0.0001)\n",
    "        #return 1./(1.+((self.k_rn(sw)/self.k_rw(sw))*(self.params[\"viscosity_w\"]/self.params[\"viscosity_o\"])))          \n",
    "        \n",
    "        \n",
    "    def plot_fractional_flow(self, x):\n",
    "        #plot the sw vs fractional flow\n",
    "\n",
    "        #x = np.linspace(self.params[\"residual_w\"]+1e-3,(1-self.params[\"residual_o\"]+1e-3),100)\n",
    "        #x = np.linspace(self.params[\"residual_w\"]+1e-3,(1),100)\n",
    "        y = [self.fractional_flow(i) for i in x ]\n",
    "\n",
    "        plt.plot(x,y)\n",
    "\n",
    "        #sw_at_front = self.sw_at_shock_front()\n",
    "        #plt.plot([sw_at_front],[self.fractional_flow(sw_at_front)],'ro')\n",
    "\n",
    "        plt.title('Fractional flow as a function of water saturation')\n",
    "        plt.xlabel('Sw')\n",
    "        plt.ylabel('Fractional flow')\n",
    "        #plt.ylim([0,0.5])\n",
    "        plt.xlim([0,1])\n",
    "\n",
    "        #add limiting fractional flow lines\n",
    "        plt.hlines(y[len(y)-1],0,1,linestyles='dashed',lw=2, colors='0.4')\n",
    "        plt.annotate('fw max: %.4f' % y[len(y)-1],xy=(0.08,0.95))\n",
    "\n",
    "\n",
    "        plt.show()\n",
    "        #print(y[len(y)-1])\n",
    "        \n",
    "        \n",
    "\n",
    "    def rarefaction_plot(self, x):\n",
    "        # it should calculate the shock velocity and the corresponding saturation which this occurs an\n",
    "\n",
    "        #create dx window of increasing size for calculating welge\n",
    "        #x = np.linspace(self.params[\"residual_w\"]+1e-3,(1-self.params[\"residual_o\"]+1e-3),50)\n",
    "\n",
    "        maximum, sw_shock = 0,0\n",
    "        grads = []\n",
    "\n",
    "        # to do - add flag to allow BL_time function to calcuate sw values from supplied Xd values\n",
    "        ## calculate welge gradient at each point until we find the max = shock velocity\n",
    "\n",
    "        for swi in x:\n",
    "            grad = self.fractional_flow(swi)/(swi-self.params[\"residual_w\"]+1e-3)\n",
    "            # vd = xd/td\n",
    "            grads.append(grad.real)\n",
    "            #print(self.fractional_flow(swi), swi-self.params[\"residual_w\"]+1e-3,  grad)\n",
    "\n",
    "            if grad.real>maximum:\n",
    "                sw_shock = swi\n",
    "                maximum = grad.real\n",
    "        #print(grads)\n",
    "        #find the position of the shock velocity in the grads array and slice to this point for the rarefaction \n",
    "        #plus one to include the actual shock velocity. Reverse to get the values in the right order\n",
    "        #rarefaction = (grads[:([i for i,j in enumerate(grads) if j == maximum][0]+1)])\n",
    "        #rarefaction = (grads[:([i for i,j in enumerate(grads)][0]+1)])\n",
    "        rarefaction=grads\n",
    "        rarefaction.sort(reverse=True)\n",
    "\n",
    "        y = x[:(len(rarefaction))]\n",
    "        #print(y)\n",
    "        #print(rarefaction)\n",
    "\n",
    "        #save calculated grads to instance \n",
    "        #print(rarefaction[0], rarefaction, y)\n",
    "        #for v in rarefaction:\n",
    "        #    self.params['vd_array'].append(v)\n",
    "\n",
    "        #plot rarefaction part \n",
    "        plt.plot(rarefaction,y,'b',lw=2)\n",
    "\n",
    "        #highlight vshock point\n",
    "        #plt.plot(rarefaction[0],y[0],'ro')\n",
    "        plt.plot(rarefaction[1],y[1],'ro')\n",
    "\n",
    "        #add the part ahead of the shock front\n",
    "        plt.vlines(rarefaction[0],y[0],self.params[\"initial_sw\"],'b',lw=2)\n",
    "        plt.hlines(self.params[\"initial_sw\"],rarefaction[0],rarefaction[0]+1,'b',lw=2)\n",
    "\n",
    "        #add saturation lines\n",
    "        #plt.hlines(self.params[\"initial_sw\"],0,rarefaction[0],linestyles='dashed',lw=2,colors='0.4')\n",
    "        plt.hlines(y[5],0,rarefaction[5],linestyles='dashed',lw=2,colors='0.4')\n",
    "        plt.hlines(y[0],0,rarefaction[0],linestyles='dashed',lw=2, colors='0.4')\n",
    "        plt.vlines(rarefaction[0],-2,self.params[\"initial_sw\"],linestyles='dashed',lw=2, colors='0.4')\n",
    "\n",
    "        # add annotations\n",
    "        plt.annotate('V shock',xy=(rarefaction[1]+0.02,y[1]+0.02))\n",
    "        plt.annotate('Sw f',xy=(0+0.04,y[0]-0.05))\n",
    "        plt.annotate('Sw i',xy=(0+0.04,y[1]-0.05))#self.params[\"initial_sw\"]-0.05))\n",
    "\n",
    "\n",
    "        #ad vdmin if the min velocity values is not zero \n",
    "        if (rarefaction[len(rarefaction)-1]>0.e-22):\n",
    "            plt.hlines(y[len(y)-1],0,rarefaction[len(rarefaction)-1],'b',lw=2)\n",
    "            plt.plot(rarefaction[len(rarefaction)-1],y[len(y)-1],'ro')\n",
    "            plt.annotate('V min',xy=((rarefaction[len(rarefaction)-1]+0.08),(y[len(y)-1])))\n",
    "            plt.vlines(rarefaction[len(rarefaction)-1],y[len(y)-1],0,linestyles='dashed',lw=2, colors='0.4')\n",
    "            plt.annotate('Sw c',xy=(0+0.04,1-self.params[\"residual_o\"]+0.03))\n",
    "\n",
    "        plt.xlabel('Dimensionless Velocity, Vd = xd/td')\n",
    "        plt.ylabel('Saturation')\n",
    "\n",
    "        plt.ylim([0,1])\n",
    "        plt.xlim([0,rarefaction[0]+1])\n",
    "        plt.title('Saturation profile velocity')\n",
    "        plt.show()\n",
    "        \n",
    "    def sobol_target_function(self, x ):\n",
    "        # it should calculate the shock velocity and the corresponding saturation which this occurs an\n",
    "\n",
    "        #create dx window of increasing size for calculating welge\n",
    "        #x = np.linspace(self.params[\"residual_w\"]+1e-3,(1-self.params[\"residual_o\"]+1e-3),50)\n",
    "\n",
    "        maximum, sw_shock = 0,0\n",
    "        grads = []\n",
    "\n",
    "        # to do - add flag to allow BL_time function to calcuate sw values from supplied Xd values\n",
    "        ## calculate welge gradient at each point until we find the max = shock velocity\n",
    "\n",
    "        for swi in x:\n",
    "            grad = self.fractional_flow(swi)/(swi-self.params[\"residual_w\"]+1e-3)\n",
    "            # vd = xd/td\n",
    "            grads.append(grad.real)\n",
    "\n",
    "            if grad.real>maximum:\n",
    "                sw_shock = swi\n",
    "                maximum = grad.real\n",
    "\n",
    "        rarefaction=grads\n",
    "        rarefaction.sort(reverse=True)\n",
    "\n",
    "        y = x[:(len(rarefaction))]\n",
    "        \n",
    "        return rarefaction[1], y[1]\n"
   ]
  },
  {
   "cell_type": "code",
   "execution_count": 78,
   "id": "expensive-ridge",
   "metadata": {
    "scrolled": true
   },
   "outputs": [],
   "source": [
    "qi1 = pd.read_excel(\"./datasets/dataset1.xlsx\")\n",
    "swlist1=list(qi1['Sw'])\n",
    "krw1=list(qi1['Krw'])\n",
    "kro1=list(qi1['Kro'])"
   ]
  },
  {
   "cell_type": "code",
   "execution_count": 79,
   "id": "paperback-translator",
   "metadata": {},
   "outputs": [],
   "source": [
    "let2=LET(\n",
    "                viscosity_w = 0.306, \n",
    "                viscosity_o = 0.670, \n",
    "                initial_sw = 0.2, \n",
    "                residual_o = 0.26, \n",
    "                residual_w = 0.2, \n",
    "                kroe = 0.95, \n",
    "                krwe = 0.3)"
   ]
  },
  {
   "cell_type": "code",
   "execution_count": 80,
   "id": "extensive-census",
   "metadata": {},
   "outputs": [],
   "source": [
    "qi2 = pd.read_excel(\"./datasets/dataset2.xlsx\")\n",
    "swlist2=list(qi2['Sw'])\n",
    "krw2=list(qi2['Krw'])\n",
    "kro2=list(qi2['Kro'])"
   ]
  },
  {
   "cell_type": "code",
   "execution_count": 81,
   "id": "french-reviewer",
   "metadata": {},
   "outputs": [],
   "source": [
    "let1=LET(\n",
    "                viscosity_w = 0.65, \n",
    "                viscosity_o = 1.25, \n",
    "\n",
    "                initial_sw = 0.15, \n",
    "                residual_o = 0.35, \n",
    "                residual_w = 0.15, \n",
    "                kroe = 0.65, \n",
    "                krwe = 0.25)"
   ]
  },
  {
   "cell_type": "code",
   "execution_count": 82,
   "id": "suburban-carol",
   "metadata": {},
   "outputs": [
    {
     "data": {
      "text/plain": [
       "0.08460523198754613"
      ]
     },
     "execution_count": 82,
     "metadata": {},
     "output_type": "execute_result"
    }
   ],
   "source": [
    "let1.fractional_flow(swlist1[0])"
   ]
  },
  {
   "cell_type": "code",
   "execution_count": 83,
   "id": "expanded-tomato",
   "metadata": {},
   "outputs": [],
   "source": [
    "#вместо mcmc используется gridsearch "
   ]
  },
  {
   "cell_type": "code",
   "execution_count": 84,
   "id": "sexual-floor",
   "metadata": {},
   "outputs": [],
   "source": [
    "def get_error(let, swlist, kro, krw):\n",
    "    cur_error=0\n",
    "    for i in range(len(swlist)):\n",
    "        cur_krw = let.calc_krw(swlist[i])\n",
    "        cur_kro = let.calc_kro(swlist[i])\n",
    "        cur_error += np.abs(kro[i]-cur_kro)**2+np.abs(krw[i]-cur_krw)**2\n",
    "    return cur_error"
   ]
  },
  {
   "cell_type": "code",
   "execution_count": 85,
   "id": "blocked-methodology",
   "metadata": {},
   "outputs": [],
   "source": [
    "def find_params(let, swlist, kro, krw, lwl, lwr, lol, lor, ewl, ewr, eol,eor, twl, twr, tol, tor, step):\n",
    "    glob_error=10**10\n",
    "    glob_params=[-1, -1, -1, -1, -1, -1]\n",
    "        \n",
    "    for Lw in range(lwl, lwr, step):\n",
    "        let.Lw=Lw/100\n",
    "        for Lo in range(lol, lor, step):\n",
    "            let.Lo=Lo/100\n",
    "            for Ew in range(ewl, ewr, step):\n",
    "                let.Ew=Ew/100\n",
    "                for Eo in range(eol, eor, step):\n",
    "                    let.Eo=Eo/100\n",
    "                    for Tw in range(twl, twr, step):\n",
    "                        let.Tw=Tw/100\n",
    "                        for To in range(tol, tor, step):\n",
    "                            let.To=To/100\n",
    "\n",
    "\n",
    "                            cur_error = get_error(let, swlist, kro, krw)\n",
    "                            if cur_error < glob_error:\n",
    "                                glob_error = cur_error\n",
    "                                glob_params = \\\n",
    "                                        [let.Lw,\n",
    "                                        let.Lo,\n",
    "                                        let.Ew,\n",
    "                                        let.Eo,\n",
    "                                        let.Tw,\n",
    "                                        let.To]\n",
    "\n",
    "    print(glob_error, glob_params)\n",
    "    return glob_params"
   ]
  },
  {
   "cell_type": "code",
   "execution_count": 86,
   "id": "colored-black",
   "metadata": {
    "scrolled": true
   },
   "outputs": [
    {
     "name": "stdout",
     "output_type": "stream",
     "text": [
      "2.916079580522968 [2.82, 0.98, 5.92, 6.43, 0.66, 2.76]\n"
     ]
    }
   ],
   "source": [
    "let1.Lw, let1.Lo, let1.Ew,let1.Eo,let1.Tw,let1.To=find_params(let1,  swlist1, kro1, krw1, 282, 362, 98, 136, 232, 621, 643, 1538, 66, 120, 216, 295, 30)"
   ]
  },
  {
   "cell_type": "code",
   "execution_count": 87,
   "id": "worth-kingston",
   "metadata": {},
   "outputs": [],
   "source": [
    "#ch1.plot_fractional_flow(swlist1)"
   ]
  },
  {
   "cell_type": "code",
   "execution_count": 88,
   "id": "floating-detector",
   "metadata": {
    "scrolled": false
   },
   "outputs": [
    {
     "data": {
      "image/png": "[encoded data removed]",
      "text/plain": [
       "<Figure size 432x288 with 1 Axes>"
      ]
     },
     "metadata": {
      "needs_background": "light"
     },
     "output_type": "display_data"
    }
   ],
   "source": [
    "let1.rarefaction_plot(swlist1)"
   ]
  },
  {
   "cell_type": "code",
   "execution_count": 89,
   "id": "marked-latest",
   "metadata": {
    "scrolled": true
   },
   "outputs": [
    {
     "name": "stdout",
     "output_type": "stream",
     "text": [
      "4.373321395539807 [3.34, 1.2, 1.14, 3.7, 0.01, 1.26]\n"
     ]
    }
   ],
   "source": [
    "let2.Lw, let2.Lo, let2.Ew,let2.Eo,let2.Tw,let2.To=find_params(let1,  swlist1, kro1, krw1, 334, 457, 120, 172, 24, 143, 310, 778, 1, 105, 66, 133, 30)"
   ]
  },
  {
   "cell_type": "code",
   "execution_count": 90,
   "id": "instant-produce",
   "metadata": {},
   "outputs": [],
   "source": [
    "#ch2.plot_fractional_flow(swlist2)"
   ]
  },
  {
   "cell_type": "code",
   "execution_count": 91,
   "id": "nuclear-funeral",
   "metadata": {
    "scrolled": false
   },
   "outputs": [
    {
     "data": {
      "image/png": "[encoded data removed]",
      "text/plain": [
       "<Figure size 432x288 with 1 Axes>"
      ]
     },
     "metadata": {
      "needs_background": "light"
     },
     "output_type": "display_data"
    }
   ],
   "source": [
    "let2.rarefaction_plot(swlist2)"
   ]
  },
  {
   "cell_type": "markdown",
   "id": "heated-mission",
   "metadata": {},
   "source": [
    "# BL"
   ]
  },
  {
   "cell_type": "code",
   "execution_count": 92,
   "id": "painted-address",
   "metadata": {
    "scrolled": true
   },
   "outputs": [],
   "source": [
    "qi1 = pd.read_excel(\"./datasets/dataset1.xlsx\")\n",
    "swlist1=list(qi1['Sw'])\n",
    "krw1=list(qi1['Krw'])\n",
    "kro1=list(qi1['Kro'])"
   ]
  },
  {
   "cell_type": "code",
   "execution_count": 93,
   "id": "miniature-accommodation",
   "metadata": {},
   "outputs": [],
   "source": [
    "qi2 = pd.read_excel(\"./datasets/dataset2.xlsx\")\n",
    "swlist2=list(qi2['Sw'])"
   ]
  },
  {
   "cell_type": "code",
   "execution_count": 94,
   "id": "modern-actress",
   "metadata": {},
   "outputs": [],
   "source": [
    "#Dataset 2\n",
    "bl2 = BuckleyLev(\n",
    "                porosity = 0.2062, \n",
    "                viscosity_w = 0.65, \n",
    "                viscosity_o = 1.25, \n",
    "                diam = 0.05, \n",
    "                length = 1.22, \n",
    "                rate = 30, \n",
    "                initial_sw = 0.15, \n",
    "                residual_o = 0.35, \n",
    "                residual_w = 0.15, \n",
    "                kroe = 0.65, \n",
    "                krwe = 0.25\n",
    "                )"
   ]
  },
  {
   "cell_type": "code",
   "execution_count": 95,
   "id": "psychological-policy",
   "metadata": {},
   "outputs": [],
   "source": [
    "bl1 = BuckleyLev(\n",
    "                porosity = 0.29, \n",
    "                viscosity_w = 0.306, \n",
    "                viscosity_o = 0.670, \n",
    "                diam = 0.037, \n",
    "                length = 0.1174, \n",
    "                rate = 5, \n",
    "                initial_sw = 0.2, \n",
    "                residual_o = 0.26, \n",
    "                residual_w = 0.2, \n",
    "                kroe = 0.95, \n",
    "                krwe = 0.3\n",
    "                )"
   ]
  },
  {
   "cell_type": "code",
   "execution_count": 97,
   "id": "alternate-lloyd",
   "metadata": {
    "scrolled": true
   },
   "outputs": [
    {
     "data": {
      "image/png": "[encoded data removed]",
      "text/plain": [
       "<Figure size 432x288 with 1 Axes>"
      ]
     },
     "metadata": {
      "needs_background": "light"
     },
     "output_type": "display_data"
    }
   ],
   "source": [
    "bl2.plot_fractional_flow_deriv(list(qi1['Sw'][:-1]))"
   ]
  },
  {
   "cell_type": "code",
   "execution_count": null,
   "id": "ranging-genome",
   "metadata": {},
   "outputs": [],
   "source": []
  },
  {
   "cell_type": "code",
   "execution_count": 99,
   "id": "genetic-confirmation",
   "metadata": {},
   "outputs": [
    {
     "data": {
      "image/png": "[encoded data removed]",
      "text/plain": [
       "<Figure size 432x288 with 1 Axes>"
      ]
     },
     "metadata": {
      "needs_background": "light"
     },
     "output_type": "display_data"
    }
   ],
   "source": [
    "bl2.plot_fractional_flow(swlist1)"
   ]
  },
  {
   "cell_type": "code",
   "execution_count": 101,
   "id": "checked-commercial",
   "metadata": {},
   "outputs": [
    {
     "data": {
      "text/plain": [
       "0.2"
      ]
     },
     "execution_count": 101,
     "metadata": {},
     "output_type": "execute_result"
    }
   ],
   "source": [
    "bl2.sw_at_shock_front(swlist1)"
   ]
  },
  {
   "cell_type": "code",
   "execution_count": 102,
   "id": "assisted-westminster",
   "metadata": {
    "scrolled": true
   },
   "outputs": [
    {
     "name": "stdout",
     "output_type": "stream",
     "text": [
      "2.0045083167382614 [2.0045083167382614, 1.9878892423778265, 1.9364335639151944, 1.8441143299865805, 1.7092906570556534, 1.5367820114194448, 1.338061149092836, 1.1288698146136675, 0.9251797079688894, 0.7395158733252544, 0.6024732726573313, 0.5791820498834908, 0.4465145305973323, 0.34029085616118776, 0.2573328674754279, 0.1937616749146144, 0.14577634298501496, 0.11004524238223616, 0.0838562443935711, 0.06516300499484758, 0.05267915903636464, 0.05200101311155053, 0.04643365731806475] [0.2, 0.22, 0.24, 0.26, 0.28, 0.3, 0.32, 0.34, 0.36, 0.38, 0.4, 0.42, 0.44, 0.46, 0.48, 0.5, 0.52, 0.54, 0.56, 0.58, 0.6, 0.62, 0.64]\n"
     ]
    },
    {
     "data": {
      "image/png": "[encoded data removed]",
      "text/plain": [
       "<Figure size 432x288 with 1 Axes>"
      ]
     },
     "metadata": {
      "needs_background": "light"
     },
     "output_type": "display_data"
    }
   ],
   "source": [
    "bl1.rarefaction_plot(swlist1)"
   ]
  },
  {
   "cell_type": "code",
   "execution_count": 103,
   "id": "central-airport",
   "metadata": {},
   "outputs": [
    {
     "data": {
      "text/plain": [
       "0.2"
      ]
     },
     "execution_count": 103,
     "metadata": {},
     "output_type": "execute_result"
    }
   ],
   "source": [
    "bl1.sw_at_shock_front(swlist1)"
   ]
  },
  {
   "cell_type": "code",
   "execution_count": 104,
   "id": "popular-mixture",
   "metadata": {},
   "outputs": [
    {
     "name": "stdout",
     "output_type": "stream",
     "text": [
      "1.8856842348648535 [1.8856842348648535, 1.8832541726897254, 0.5021915684275587, 0.011259360797561376, 0.00016849647037558282, 2.032132357625103e-06, 1.8497417092839146e-08, 1.158316639698567e-10, 4.392592829556935e-13, 8.438613190821305e-16, 6.602201581829027e-19, 2.0010508244823996e-21] [0.15, 0.2, 0.25, 0.3, 0.35, 0.4, 0.45, 0.5, 0.55, 0.6, 0.65, 0.675]\n"
     ]
    },
    {
     "data": {
      "image/png": "[encoded data removed]",
      "text/plain": [
       "<Figure size 432x288 with 1 Axes>"
      ]
     },
     "metadata": {
      "needs_background": "light"
     },
     "output_type": "display_data"
    }
   ],
   "source": [
    "bl2.rarefaction_plot(swlist2)"
   ]
  },
  {
   "cell_type": "code",
   "execution_count": 105,
   "id": "laughing-mathematics",
   "metadata": {},
   "outputs": [
    {
     "data": {
      "text/plain": [
       "0.15"
      ]
     },
     "execution_count": 105,
     "metadata": {},
     "output_type": "execute_result"
    }
   ],
   "source": [
    "bl2.sw_at_shock_front(swlist2)"
   ]
  },
  {
   "cell_type": "markdown",
   "id": "closed-evidence",
   "metadata": {},
   "source": [
    "# 1.2 Relative permeability models"
   ]
  },
  {
   "cell_type": "markdown",
   "id": "incoming-seattle",
   "metadata": {},
   "source": [
    "### Two widely used **relative permeability models** were considered for the Buckley-Leverett (Eq. 1): \n"
   ]
  },
  {
   "cell_type": "markdown",
   "id": "exclusive-dietary",
   "metadata": {},
   "source": [
    "###  a) The Chierici’s relative permeability model "
   ]
  },
  {
   "cell_type": "markdown",
   "id": "sexual-keyboard",
   "metadata": {},
   "source": [
    "**Eq. 5**\n",
    "\\begin{equation}\n",
    "\\kappa_{r w}=\\kappa_{w}^{0} e^{-B\\left(\\frac{S_{w}-S_{w 0}}{1-S_{w}-S_{o 0}}\\right)^{-M}}\n",
    "\\quad \\kappa_{r o}=\\kappa_{o}^{0} e^{-A\\left(\\frac{S_{w}-S_{w 0}}{1-S_{w}-S_{o 0}}\\right)^{L}}\n",
    "\\end{equation}"
   ]
  },
  {
   "cell_type": "markdown",
   "id": "military-soccer",
   "metadata": {},
   "source": [
    "where \n",
    "\n",
    "- **A**, **L**, **B** and **M** - parameters for the relative permeabilities"
   ]
  },
  {
   "cell_type": "markdown",
   "id": "colored-emission",
   "metadata": {},
   "source": [
    "###  b) The LET relative permeability model "
   ]
  },
  {
   "cell_type": "markdown",
   "id": "manual-journal",
   "metadata": {},
   "source": [
    "**Eq. 6**\n",
    "\\begin{equation}\n",
    "\\kappa_{r w}=\\kappa_{w}^{0} \\frac{S_{w e}^{L_{w}}}{S_{w e}^{L_{w}}+E_{w}\\left(1-S_{w e}\\right)^{T_{w}}} \\quad \\kappa_{r o}=\\kappa_{o}^{0} \\frac{\\left(1-S_{w e}\\right)^{L_{o}}}{\\left(1-S_{w e}\\right)^{L_{o}}+E_{o} S_{w e}^{T_{o}}}\n",
    "\\end{equation}"
   ]
  },
  {
   "cell_type": "markdown",
   "id": "corporate-burner",
   "metadata": {},
   "source": [
    "where \n",
    "\n",
    "- **Lw**, **Ew**, **Tw**, **Lo**, **Eo**, and **To** - parameters of the model  (**w** - water phase and **o** - oil phase)"
   ]
  },
  {
   "cell_type": "markdown",
   "id": "accepted-kidney",
   "metadata": {},
   "source": [
    "**Swe** - effective water saturation calculated as:\n",
    "\n",
    "**Eq. 7**\n",
    "\n",
    "\\begin{equation}\n",
    "S_{w e}=\\frac{S_{w}-S_{w 0}}{1-S_{w 0}-S_{o 0}}\n",
    "\\end{equation}"
   ]
  },
  {
   "cell_type": "markdown",
   "id": "cathedral-meaning",
   "metadata": {},
   "source": [
    "where \n",
    "\n",
    "- **Sw0** - connate water saturation, \n",
    "\n",
    "- **So0** the residual oil saturation, \n",
    "\n",
    "- **𝜅0o** - oil relative permeability at the connate water saturation, \n",
    "\n",
    "- **𝜅0𝑤** - water relative permeability at the residual oil saturation"
   ]
  },
  {
   "cell_type": "markdown",
   "id": "working-restaurant",
   "metadata": {},
   "source": [
    "# 1.3 Datasets "
   ]
  },
  {
   "cell_type": "markdown",
   "id": "sensitive-saturday",
   "metadata": {},
   "source": [
    "!разобраться откуда какие данные!"
   ]
  },
  {
   "cell_type": "markdown",
   "id": "lonely-language",
   "metadata": {},
   "source": [
    "# 1.4 Input parameters and quantities of interest"
   ]
  },
  {
   "cell_type": "markdown",
   "id": "graduate-electricity",
   "metadata": {},
   "source": [
    "To perform UQ and SA studies we must define a set of input parameters θ and relevant **quantities of interest (QoIs)**:"
   ]
  },
  {
   "cell_type": "markdown",
   "id": "decimal-surface",
   "metadata": {},
   "source": [
    "### a) For Chierici’s model the input parameters:"
   ]
  },
  {
   "cell_type": "markdown",
   "id": "chief-attitude",
   "metadata": {},
   "source": [
    "\\begin{equation}\n",
    "θ_{c}={({B; M; A; L})}\n",
    "\\end{equation}"
   ]
  },
  {
   "cell_type": "markdown",
   "id": "monetary-barrel",
   "metadata": {},
   "source": [
    "### b) For LET model the input parameters:"
   ]
  },
  {
   "cell_type": "markdown",
   "id": "protected-somerset",
   "metadata": {},
   "source": [
    "\\begin{equation}\n",
    "θ_{c}={({L_{w},E_{w},T_{w},L_{o},E_{o},T_{o}})}\n",
    "\\end{equation}"
   ]
  },
  {
   "cell_type": "markdown",
   "id": "therapeutic-listing",
   "metadata": {},
   "source": [
    "### The following **QoIs** were considered in this study: \n",
    "\n",
    "**Scpt** - relative permeability crossing point, \n",
    "\n",
    "**Eq. 8**\n",
    "\n",
    "\\begin{equation}\n",
    "\\kappa_{r w}\\left(S_{c p t}\\right)-\\kappa_{r o}\\left(S_{c p t}\\right)=0\n",
    "\\end{equation}\n",
    "\n",
    "**S𝑓** -shock front saturation,\n",
    "\n",
    "**Eq. 9**\n",
    "\n",
    "\\begin{equation}\n",
    "\\frac{\\partial f\\left(S_{f}\\right)}{\\partial S_{w}}\\left(S_{f}-S_{w 0}\\right)-f\\left(S_{f}\\right)=0\n",
    "\\end{equation}\n",
    "\n",
    "\n",
    "**V(t)** - displaced oil at a fixed time\n",
    "\n",
    "**Eq. 10**\n",
    "\n",
    "\\begin{equation}\n",
    "V(t)=a \\int_{0}^{t} q\\left(1-f\\left(S_{w}(L, \\tau)\\right)\\right) d \\tau\n",
    "\\end{equation}"
   ]
  },
  {
   "cell_type": "markdown",
   "id": "unlike-category",
   "metadata": {},
   "source": [
    "where \n",
    "\n",
    "- **f(Sw(L,𝜏)** - fractional flow function evaluated at any time instant **τ** and at the position **x=L** which, corresponds to the size of the core sample."
   ]
  },
  {
   "cell_type": "markdown",
   "id": "aboriginal-interstate",
   "metadata": {},
   "source": [
    "The datasets and the simulations performed in this work focus on core-scale experiments. QoIs used in this work were chosen considering their relevance to both core-scale and field-scale experiments. For instance, the crossing point saturation **Scpt** and the shock front saturation **S𝑓** are essential indicators of the performance for both mature or new reservoirs."
   ]
  },
  {
   "cell_type": "markdown",
   "id": "critical-fabric",
   "metadata": {},
   "source": [
    "# 1.5 Parameter and distribution estimation"
   ]
  },
  {
   "cell_type": "markdown",
   "id": "supreme-diving",
   "metadata": {},
   "source": [
    "For each relative permeability model (Chierici and LET) we performed a parameter estimation based on the presented datasets using the **Markov Chain Monte Carlo (MCMC) method**. \n",
    "\n",
    "**(MCMC implemented in emcee library, implemented in the lmfit package, was used to obtain an initial guess for the relative permeability model parameters required for the MCMC).**"
   ]
  },
  {
   "cell_type": "markdown",
   "id": "clean-registration",
   "metadata": {},
   "source": [
    "### Assuming θ as the relative permeability model parameters and D as the dataset, MCMC tries to estimate:"
   ]
  },
  {
   "cell_type": "markdown",
   "id": "geological-princeton",
   "metadata": {},
   "source": [
    "**Eq. 11**\n",
    "\n",
    "\\begin{equation}\n",
    "\\mathbb{P}(\\boldsymbol{\\theta} \\mid D)=\\frac{\\mathbb{P}(\\boldsymbol{D} \\mid \\boldsymbol{\\theta}) \\mathbb{P}(\\boldsymbol{\\theta})}{\\mathbb{P}(D)}\n",
    "\\end{equation}"
   ]
  },
  {
   "cell_type": "markdown",
   "id": "commercial-prerequisite",
   "metadata": {},
   "source": [
    "where \n",
    "\n",
    "- **ℙ(𝜽)** - prior knowledge about the input parameters **θ** - joint probability distribution, \n",
    "\n",
    "- **ℙ(𝑫∣𝜽)** - likelihood function, \n",
    "\n",
    "- **ℙ(𝐷)** - evidence that the data was generated by this model. "
   ]
  },
  {
   "cell_type": "markdown",
   "id": "wound-execution",
   "metadata": {},
   "source": [
    "In **Eq. 11** - likelihood function:\n",
    "\n",
    "**Eq. 12**\n",
    "\n",
    "\\begin{equation}\n",
    "\\ln (\\mathbb{P}(D \\mid \\boldsymbol{\\theta}))=-0.5 \\sum_{i}^{N_{d}}\\left[\\left(\\frac{D^{i}-y^{i}(\\boldsymbol{\\theta})}{\\sigma^{i}}\\right)^{2}+2 \\log \\left(\\sigma^{i}\\right)\\right]\n",
    "\\end{equation}"
   ]
  },
  {
   "cell_type": "markdown",
   "id": "fallen-signal",
   "metadata": {},
   "source": [
    "where \n",
    "\n",
    "- **Nd** - size of the dataset, \n",
    "\n",
    "- **𝜎𝑖** represents the error values, \n",
    "\n",
    "- **𝑦𝑖(𝜽)** - entry of the vector representing the relative permeability model evaluated at the sample parameters **θ**."
   ]
  },
  {
   "cell_type": "markdown",
   "id": "little-commons",
   "metadata": {},
   "source": [
    "The MCMC method requires the definition of a prior distribution - **flat prior distributions:**"
   ]
  },
  {
   "cell_type": "markdown",
   "id": "informal-gazette",
   "metadata": {},
   "source": [
    "**Eq. 13**\n",
    "\n",
    "\\begin{equation}\n",
    "\\ln (\\mathbb{P}(\\boldsymbol{\\theta}))=\\{\\text { 0if all entries of } \\boldsymbol{\\theta} \\in \\mathbb{R}>0\n",
    "\\end{equation}"
   ]
  },
  {
   "cell_type": "markdown",
   "id": "alleged-prior",
   "metadata": {},
   "source": [
    "-∞ elsewhere."
   ]
  },
  {
   "cell_type": "markdown",
   "id": "spanish-holmes",
   "metadata": {},
   "source": [
    "# 2.1 Uncertainty quantification"
   ]
  },
  {
   "cell_type": "markdown",
   "id": "neutral-religious",
   "metadata": {},
   "source": [
    "# 3.1 Sensitivity analysis"
   ]
  },
  {
   "cell_type": "code",
   "execution_count": 199,
   "id": "nominated-captain",
   "metadata": {},
   "outputs": [],
   "source": [
    "def estimate_sobol_LET(let, swlist, kro, krw, Lw, Lo, Ew, Eo, Tw, To):\n",
    "    let.Lw=Lw\n",
    "    let.Lo=Lo\n",
    "    let.Ew=Ew\n",
    "    let.Eo=Eo\n",
    "    let.Tw=Tw\n",
    "    let.To=To\n",
    "\n",
    "    for i in range(len(swlist)):\n",
    "        cur_krw = let.calc_krw(swlist[i])\n",
    "        cur_kro = let.calc_kro(swlist[i])\n",
    "\n",
    "#     bl2.sw_at_shock_front(swlist)\n",
    "#     x, y = let.rarefaction_plot(swlist)\n",
    "    x, y = let.sobol_target_function(swlist)\n",
    "    return (x,y)"
   ]
  },
  {
   "cell_type": "code",
   "execution_count": 200,
   "id": "peripheral-effectiveness",
   "metadata": {},
   "outputs": [],
   "source": [
    "from SALib.sample import saltelli\n",
    "from SALib.analyze import sobol\n",
    "from SALib.plotting.bar import plot as barplot\n",
    "\n",
    "problem_LET = {\n",
    "    'num_vars': 6,\n",
    "    'names': ['Lw', 'Lo', 'Ew', 'Eo', 'Tw', 'To'],\n",
    "    'bounds': [[3.34, 4.57], \n",
    "             [1.20, 1.72], \n",
    "             [0.24, 1.43], \n",
    "             [3.10, 7.78], \n",
    "             [0.01, 1.05], \n",
    "             [0.66, 1.33]]\n",
    "}\n",
    "\n",
    "param_values_LET = saltelli.sample(problem_LET, 1000)\n"
   ]
  },
  {
   "cell_type": "code",
   "execution_count": null,
   "id": "applied-moore",
   "metadata": {},
   "outputs": [],
   "source": []
  },
  {
   "cell_type": "code",
   "execution_count": 201,
   "id": "ahead-smooth",
   "metadata": {},
   "outputs": [],
   "source": [
    "res_x = []\n",
    "res_y= []\n",
    "for z in tqdm.tqdm(range(param_values_LET.shape[0])):\n",
    "    x, y = estimate_sobol_LET(let1,  swlist1, kro1, krw1, *param_values_LET[z,:])\n",
    "    res_x.append(x)"
   ]
  },
  {
   "cell_type": "code",
   "execution_count": 202,
   "id": "federal-qualification",
   "metadata": {},
   "outputs": [],
   "source": [
    "Si = sobol.analyze(problem_LET, np.array(res_x))"
   ]
  },
  {
   "cell_type": "code",
   "execution_count": 203,
   "id": "controversial-relaxation",
   "metadata": {},
   "outputs": [
    {
     "data": {
      "text/html": [
       "<div>\n",
       "<style scoped>\n",
       "    .dataframe tbody tr th:only-of-type {\n",
       "        vertical-align: middle;\n",
       "    }\n",
       "\n",
       "    .dataframe tbody tr th {\n",
       "        vertical-align: top;\n",
       "    }\n",
       "\n",
       "    .dataframe thead th {\n",
       "        text-align: right;\n",
       "    }\n",
       "</style>\n",
       "<table border=\"1\" class=\"dataframe\">\n",
       "  <thead>\n",
       "    <tr style=\"text-align: right;\">\n",
       "      <th></th>\n",
       "      <th>S1</th>\n",
       "      <th>ST</th>\n",
       "      <th>S1_conf</th>\n",
       "      <th>ST_conf</th>\n",
       "    </tr>\n",
       "    <tr>\n",
       "      <th>Parameters</th>\n",
       "      <th></th>\n",
       "      <th></th>\n",
       "      <th></th>\n",
       "      <th></th>\n",
       "    </tr>\n",
       "  </thead>\n",
       "  <tbody>\n",
       "    <tr>\n",
       "      <th>Lw</th>\n",
       "      <td>0.016460</td>\n",
       "      <td>0.043505</td>\n",
       "      <td>0.018543</td>\n",
       "      <td>0.006587</td>\n",
       "    </tr>\n",
       "    <tr>\n",
       "      <th>Lo</th>\n",
       "      <td>0.151927</td>\n",
       "      <td>0.194765</td>\n",
       "      <td>0.039795</td>\n",
       "      <td>0.022718</td>\n",
       "    </tr>\n",
       "    <tr>\n",
       "      <th>Ew</th>\n",
       "      <td>0.310756</td>\n",
       "      <td>0.381869</td>\n",
       "      <td>0.053734</td>\n",
       "      <td>0.040227</td>\n",
       "    </tr>\n",
       "    <tr>\n",
       "      <th>Eo</th>\n",
       "      <td>0.251280</td>\n",
       "      <td>0.311204</td>\n",
       "      <td>0.043966</td>\n",
       "      <td>0.028110</td>\n",
       "    </tr>\n",
       "    <tr>\n",
       "      <th>Tw</th>\n",
       "      <td>0.186132</td>\n",
       "      <td>0.247474</td>\n",
       "      <td>0.047750</td>\n",
       "      <td>0.029945</td>\n",
       "    </tr>\n",
       "    <tr>\n",
       "      <th>To</th>\n",
       "      <td>0.008843</td>\n",
       "      <td>0.035918</td>\n",
       "      <td>0.016579</td>\n",
       "      <td>0.006223</td>\n",
       "    </tr>\n",
       "  </tbody>\n",
       "</table>\n",
       "</div>"
      ],
      "text/plain": [
       "                  S1        ST   S1_conf   ST_conf\n",
       "Parameters                                        \n",
       "Lw          0.016460  0.043505  0.018543  0.006587\n",
       "Lo          0.151927  0.194765  0.039795  0.022718\n",
       "Ew          0.310756  0.381869  0.053734  0.040227\n",
       "Eo          0.251280  0.311204  0.043966  0.028110\n",
       "Tw          0.186132  0.247474  0.047750  0.029945\n",
       "To          0.008843  0.035918  0.016579  0.006223"
      ]
     },
     "execution_count": 203,
     "metadata": {},
     "output_type": "execute_result"
    }
   ],
   "source": [
    "Si_dict = dict(Si) \n",
    "sensitivity_indices = ['S1', 'ST', 'S1_conf', 'ST_conf']\n",
    "Si_df = pd.DataFrame()\n",
    "for SI in sensitivity_indices:\n",
    "    Si_df = Si_df.append(pd.Series(Si_dict[SI]), ignore_index=True)\n",
    "\n",
    "Si_df = Si_df.T\n",
    "Si_df.columns = sensitivity_indices\n",
    "Si_df['Parameters'] =problem_LET['names']\n",
    "Si_df.set_index('Parameters', inplace=True)\n",
    "Si_df"
   ]
  },
  {
   "cell_type": "code",
   "execution_count": 225,
   "id": "prompt-process",
   "metadata": {},
   "outputs": [
    {
     "data": {
      "image/png": "[encoded data removed]",
      "text/plain": [
       "<Figure size 432x288 with 1 Axes>"
      ]
     },
     "metadata": {},
     "output_type": "display_data"
    }
   ],
   "source": [
    "plt.style.use('ggplot')\n",
    "from SALib.plotting.bar import plot as barplot\n",
    "barplot(Si_df)\n",
    "plt.title('SA of LET model parameters')\n",
    "plt.legend(['$S_{main}$', '$S_{total}$'])\n",
    "plt.show()"
   ]
  },
  {
   "cell_type": "markdown",
   "id": "greater-grave",
   "metadata": {},
   "source": [
    "## SA of Chersie model \n"
   ]
  },
  {
   "cell_type": "code",
   "execution_count": 205,
   "id": "incomplete-craps",
   "metadata": {},
   "outputs": [],
   "source": [
    "def estimate_sobol_CHERSIE(ch, swlist,kro, krw, A, L, B, M):\n",
    "    ch.A=A\n",
    "    ch.L=L\n",
    "    ch.B=B\n",
    "    ch.M=M\n",
    "\n",
    "    for i in range(len(swlist)):\n",
    "        cur_krw = ch.calc_krw(swlist[i])\n",
    "        cur_kro = ch.calc_kro(swlist[i])\n",
    "\n",
    "    x, y = ch.sobol_target_function(swlist)\n",
    "    return (x,y)\n",
    "\n"
   ]
  },
  {
   "cell_type": "code",
   "execution_count": 231,
   "id": "nonprofit-squad",
   "metadata": {},
   "outputs": [],
   "source": [
    "problem_Chersie = {\n",
    "    'num_vars': 4,\n",
    "    'names': ['A', 'B', 'L', 'M'],\n",
    "    'bounds': [[1.47, 2.06], \n",
    "             [1.86, 2.96], \n",
    "             [0.42, 0.68], \n",
    "             [0.64, 0.97]]\n",
    "}\n",
    "\n",
    "\n",
    "param_values_Chersie = saltelli.sample(problem_Chersie, 10000)"
   ]
  },
  {
   "cell_type": "code",
   "execution_count": 234,
   "id": "fitted-royal",
   "metadata": {},
   "outputs": [],
   "source": [
    "import tqdm"
   ]
  },
  {
   "cell_type": "code",
   "execution_count": 236,
   "id": "connected-leadership",
   "metadata": {},
   "outputs": [
    {
     "name": "stderr",
     "output_type": "stream",
     "text": [
      "100%|██████████| 100000/100000 [00:37<00:00, 2699.10it/s]\n"
     ]
    }
   ],
   "source": [
    "res_x = []\n",
    "res_y= []\n",
    "for z in tqdm.tqdm(range(param_values_Chersie.shape[0])):\n",
    "    x, y = estimate_sobol_CHERSIE(ch1,  swlist1, kro1, krw1, *param_values_Chersie[z,:])\n",
    "    res_x.append(x)"
   ]
  },
  {
   "cell_type": "code",
   "execution_count": 237,
   "id": "hungarian-knitting",
   "metadata": {},
   "outputs": [],
   "source": [
    "Si = sobol.analyze(problem_Chersie, np.array(res_x))"
   ]
  },
  {
   "cell_type": "code",
   "execution_count": 238,
   "id": "direct-redhead",
   "metadata": {},
   "outputs": [
    {
     "data": {
      "text/html": [
       "<div>\n",
       "<style scoped>\n",
       "    .dataframe tbody tr th:only-of-type {\n",
       "        vertical-align: middle;\n",
       "    }\n",
       "\n",
       "    .dataframe tbody tr th {\n",
       "        vertical-align: top;\n",
       "    }\n",
       "\n",
       "    .dataframe thead th {\n",
       "        text-align: right;\n",
       "    }\n",
       "</style>\n",
       "<table border=\"1\" class=\"dataframe\">\n",
       "  <thead>\n",
       "    <tr style=\"text-align: right;\">\n",
       "      <th></th>\n",
       "      <th>S1</th>\n",
       "      <th>ST</th>\n",
       "      <th>S1_conf</th>\n",
       "      <th>ST_conf</th>\n",
       "    </tr>\n",
       "    <tr>\n",
       "      <th>Parameters</th>\n",
       "      <th></th>\n",
       "      <th></th>\n",
       "      <th></th>\n",
       "      <th></th>\n",
       "    </tr>\n",
       "  </thead>\n",
       "  <tbody>\n",
       "    <tr>\n",
       "      <th>A</th>\n",
       "      <td>0.076036</td>\n",
       "      <td>0.314274</td>\n",
       "      <td>0.016861</td>\n",
       "      <td>0.028607</td>\n",
       "    </tr>\n",
       "    <tr>\n",
       "      <th>B</th>\n",
       "      <td>0.349778</td>\n",
       "      <td>0.595866</td>\n",
       "      <td>0.034394</td>\n",
       "      <td>0.041734</td>\n",
       "    </tr>\n",
       "    <tr>\n",
       "      <th>L</th>\n",
       "      <td>0.235089</td>\n",
       "      <td>0.258976</td>\n",
       "      <td>0.016202</td>\n",
       "      <td>0.014685</td>\n",
       "    </tr>\n",
       "    <tr>\n",
       "      <th>M</th>\n",
       "      <td>0.085365</td>\n",
       "      <td>0.098098</td>\n",
       "      <td>0.007766</td>\n",
       "      <td>0.006036</td>\n",
       "    </tr>\n",
       "  </tbody>\n",
       "</table>\n",
       "</div>"
      ],
      "text/plain": [
       "                  S1        ST   S1_conf   ST_conf\n",
       "Parameters                                        \n",
       "A           0.076036  0.314274  0.016861  0.028607\n",
       "B           0.349778  0.595866  0.034394  0.041734\n",
       "L           0.235089  0.258976  0.016202  0.014685\n",
       "M           0.085365  0.098098  0.007766  0.006036"
      ]
     },
     "execution_count": 238,
     "metadata": {},
     "output_type": "execute_result"
    }
   ],
   "source": [
    "Si_dict = dict(Si) \n",
    "sensitivity_indices = ['S1', 'ST', 'S1_conf', 'ST_conf']\n",
    "Si_df = pd.DataFrame()\n",
    "for SI in sensitivity_indices:\n",
    "    Si_df = Si_df.append(pd.Series(Si_dict[SI]), ignore_index=True)\n",
    "\n",
    "Si_df = Si_df.T\n",
    "Si_df.columns = sensitivity_indices\n",
    "Si_df['Parameters'] =problem_Chersie['names']\n",
    "Si_df.set_index('Parameters', inplace=True)\n",
    "Si_df\n",
    "# Si_df.to_excel()"
   ]
  },
  {
   "cell_type": "code",
   "execution_count": 240,
   "id": "developmental-toddler",
   "metadata": {},
   "outputs": [
    {
     "data": {
      "image/png": "[encoded data removed]",
      "text/plain": [
       "<Figure size 432x288 with 1 Axes>"
      ]
     },
     "metadata": {},
     "output_type": "display_data"
    }
   ],
   "source": [
    "\n",
    "plt.style.use('ggplot')\n",
    "from SALib.plotting.bar import plot as barplot\n",
    "barplot(Si_df)\n",
    "plt.title('SA of Chersie model parameters')\n",
    "plt.legend(['$S_{main}$', '$S_{total}$'])\n",
    "# plt.savefig('./plots/SA_Chersie_model.png', dpi=300)\n",
    "plt.show()"
   ]
  },
  {
   "cell_type": "code",
   "execution_count": null,
   "id": "genuine-discussion",
   "metadata": {},
   "outputs": [],
   "source": []
  }
 ],
 "metadata": {
  "kernelspec": {
   "display_name": "Python 3",
   "language": "python",
   "name": "python3"
  },
  "language_info": {
   "codemirror_mode": {
    "name": "ipython",
    "version": 3
   },
   "file_extension": ".py",
   "mimetype": "text/x-python",
   "name": "python",
   "nbconvert_exporter": "python",
   "pygments_lexer": "ipython3",
   "version": "3.8.5"
  }
 },
 "nbformat": 4,
 "nbformat_minor": 5
}
