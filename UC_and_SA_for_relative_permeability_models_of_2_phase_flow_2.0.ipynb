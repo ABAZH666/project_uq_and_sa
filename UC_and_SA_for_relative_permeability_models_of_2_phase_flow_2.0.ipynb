{
 "cells": [
  {
   "cell_type": "markdown",
   "id": "million-intensity",
   "metadata": {},
   "source": [
    "# 1.1 Two-phase flow model"
   ]
  },
  {
   "cell_type": "markdown",
   "id": "ranging-elder",
   "metadata": {},
   "source": [
    "The water-oil displacement in a petroleum reservoir can be approximated\n",
    "with the Buckley-Leverett (BL) model. The two-phase transport in a porous medium using the BL model can be described by **Equation 1**."
   ]
  },
  {
   "cell_type": "markdown",
   "id": "warming-insulation",
   "metadata": {},
   "source": [
    "**Eq. 1**\n",
    "\n",
    "\\begin{equation}\n",
    "\\frac{\\partial S_{w}}{\\partial t}+\\frac{q}{\\varphi a} \\frac{\\partial}{\\partial x}(f)=0, \\text { in } \\Omega \\times[0, T]\n",
    "\\end{equation}"
   ]
  },
  {
   "cell_type": "markdown",
   "id": "wanted-holiday",
   "metadata": {},
   "source": [
    "where\n",
    "\n",
    "- **q** - total influx,\n",
    "\n",
    "- **a** - core sample cross section area,\n",
    "\n",
    "- **𝜑** - matrix porosity\n"
   ]
  },
  {
   "cell_type": "markdown",
   "id": "delayed-brunswick",
   "metadata": {},
   "source": [
    "\\begin{equation}\n",
    "S_{w}=S_{w}(x, t) \\text {-denotes the water saturation}\n",
    "\\end{equation}"
   ]
  },
  {
   "cell_type": "markdown",
   "id": "atmospheric-surname",
   "metadata": {},
   "source": [
    "- **𝑓** - fractional flow function\n",
    "\n",
    "**Eq. 2** \n",
    "\n",
    "\\begin{equation}\n",
    "f=\\frac{\\boldsymbol{\\kappa}_{r w}}{\\boldsymbol{\\kappa}_{r w}+\\left(\\frac{\\mu_{w}}{\\mu_{o}}\\right) \\boldsymbol{\\kappa}_{r o}}\n",
    "\\end{equation}"
   ]
  },
  {
   "cell_type": "markdown",
   "id": "regular-macintosh",
   "metadata": {},
   "source": [
    "where\n",
    "\n",
    "\\begin{equation}\n",
    "\\kappa_{r w}=\\kappa_{r w}\\left(S_{w}\\right) \\text { и } \\kappa_{r o}=\\kappa_{r o}\\left(S_{w}\\right) \\text { - the water and oil phase relative permeabilities, respectively}\n",
    "\\end{equation}\n"
   ]
  },
  {
   "cell_type": "markdown",
   "id": "floral-socket",
   "metadata": {},
   "source": [
    "\\begin{equation}\n",
    "\\mu_{w} \\text { , } \\mu_{o} \\text {- water and oil viscosities, respectively}\n",
    "\\end{equation} "
   ]
  },
  {
   "cell_type": "markdown",
   "id": "worth-pressure",
   "metadata": {},
   "source": [
    "### initial conditions:"
   ]
  },
  {
   "cell_type": "markdown",
   "id": "fatal-committee",
   "metadata": {},
   "source": [
    "**Eq. 3**\n",
    "\\begin{equation}\n",
    "S_{w}(x, 0)=S_{w 0}\n",
    "\\end{equation}"
   ]
  },
  {
   "cell_type": "markdown",
   "id": "qualified-reservoir",
   "metadata": {},
   "source": [
    "### boundary conditions:"
   ]
  },
  {
   "cell_type": "markdown",
   "id": "saving-supervision",
   "metadata": {},
   "source": [
    "**Eq. 4**\n",
    "\\begin{equation}\n",
    "S_{w}(0, t)=1.0-S_{o 0}\n",
    "\\end{equation}"
   ]
  },
  {
   "cell_type": "markdown",
   "id": "helpful-diving",
   "metadata": {},
   "source": [
    "the maximum of water is injected at a constant flow rate of **q**"
   ]
  },
  {
   "cell_type": "code",
   "execution_count": 1,
   "id": "loved-blood",
   "metadata": {},
   "outputs": [],
   "source": [
    "# The initial code was provided by sonny-qa \n",
    "# LINK [https://github.com/sonny-qa/buckley-leverett/blob/master/buckley-lev.ipynb]\n",
    "import numpy as np\n",
    "from scipy import interpolate\n",
    "import matplotlib.pyplot as plt\n",
    "from matplotlib.patches import Polygon"
   ]
  },
  {
   "cell_type": "code",
   "execution_count": 2,
   "id": "adaptive-catering",
   "metadata": {},
   "outputs": [],
   "source": [
    "class BuckleyLev():\n",
    "    \n",
    "    def __init__(self):\n",
    "        self.params = {\n",
    "            #OIL phase viscosity /// our case 𝜇o (non wetting phase)\n",
    "            \"viscosity_o\": 1.e-3,\n",
    "            \n",
    "            #WATER phase viscosity /// our case 𝜇𝑤 (wetting phase)\n",
    "            \"viscosity_w\": 1.e-3,\n",
    "            \n",
    "            #initial water sat /// our case Sw, in the initial conditions Sw=Sw0\n",
    "            \"initial_sw\":0.2,\n",
    "            \n",
    "            #residual water saturation, Swirr (irreducible) /// our case 𝑆w0  - connate water saturation \n",
    "            \"residual_w\":0.5,\n",
    "            \n",
    "            #residual oil saturation, Sor /// our case 𝑆𝑜0\n",
    "            \"residual_o\":0.3,\n",
    "            \n",
    "            #water rel perm at water curve end point\n",
    "            \"krwe\":1,\n",
    "            \n",
    "            #oil rel perm at oil curve end point\n",
    "            \"kroe\": 0.99,\n",
    "            \n",
    "            #dimless velocity results\n",
    "            'vd_array':[],\n",
    "            \n",
    "            #porosity\n",
    "            'poro':0.24,\n",
    "            \n",
    "            #water injection rate units TBD\n",
    "            \"inject_rate\":20,\n",
    "            \n",
    "            #cross sectional area units TBD\n",
    "            \"x-area\":30\n",
    "        }"
   ]
  },
  {
   "cell_type": "code",
   "execution_count": 4,
   "id": "computational-cycling",
   "metadata": {},
   "outputs": [],
   "source": [
    "# В ЭТУ ЧАСТЬ ДОЛЖНЫ ВВОДИТЬСЯ ДАННЫЕ ДЛЯ k_rw ИЗ LET // Chi-model\n",
    "def k_rw(self,sw):\n",
    "    #water relative perm calculation for a given water saturation \n",
    "    p = 11.174\n",
    "    return ((self.params['krwe']))*sw**p\n",
    "\n",
    "BuckleyLev.k_rw = k_rw"
   ]
  },
  {
   "cell_type": "code",
   "execution_count": 5,
   "id": "matched-template",
   "metadata": {},
   "outputs": [],
   "source": [
    "# В ЭТУ ЧАСТЬ ДОЛЖНЫ ВВОДИТЬСЯ ДАННЫЕ ДЛЯ k_r0 ИЗ LET // Chi-model\n",
    "def k_rn(self,sw):\n",
    "    #oil relative perm calculation for a given water saturation \n",
    "    q = 3.326\n",
    "    return ((1.-self.params['kroe']*sw)**q)\n",
    "\n",
    "BuckleyLev.k_rn = k_rn"
   ]
  },
  {
   "cell_type": "code",
   "execution_count": 6,
   "id": "fatty-edinburgh",
   "metadata": {},
   "outputs": [],
   "source": [
    "#РАСЧЕТ f=fractional flow перед этим все выражение из статьи делим на k_rw\n",
    "def fractional_flow(self,sw):\n",
    "    #returns the fractional flow\n",
    "    \n",
    "    return 1./(1.+((self.k_rn(sw)/self.k_rw(sw))*(self.params[\"viscosity_w\"]/self.params[\"viscosity_o\"])))\n",
    "\n",
    "BuckleyLev.fractional_flow = fractional_flow"
   ]
  },
  {
   "cell_type": "code",
   "execution_count": 7,
   "id": "signed-japan",
   "metadata": {},
   "outputs": [],
   "source": [
    "def fractional_flow_deriv(self,sw):\n",
    "    #calculate derivative of fractional flow - dFw/dSw - Vsh\n",
    "    \n",
    "    f_deriv = (self.fractional_flow(sw+0.0001) - self.fractional_flow(sw))/0.0001\n",
    "    \n",
    "    return f_deriv\n",
    "\n",
    "BuckleyLev.fractional_flow_deriv = fractional_flow_deriv"
   ]
  },
  {
   "cell_type": "code",
   "execution_count": 8,
   "id": "constant-genome",
   "metadata": {},
   "outputs": [],
   "source": [
    "def fractional_flow_2deriv(self,sw):\n",
    "    f_2deriv = ((self.fractional_flow(sw+0.01))-2*(self.fractional_flow(sw))-self.fractional_flow(sw-0.01))/((0.01)**2)\n",
    "    return f_2deriv\n",
    "\n",
    "BuckleyLev.fractional_flow_2deriv = fractional_flow_2deriv"
   ]
  },
  {
   "cell_type": "code",
   "execution_count": 9,
   "id": "hydraulic-trial",
   "metadata": {},
   "outputs": [],
   "source": [
    "def plot_fractional_flow_deriv(self):\n",
    "    #plot the derivative dFw/dSw - Vsh vs Sw\n",
    "    y = np.linspace(self.params[\"residual_w\"]+1e-3,(1-self.params[\"residual_o\"]+1e-3),50)\n",
    "    x = [self.fractional_flow_deriv(i) for i in y ]\n",
    "    \n",
    "    plt.plot(x,y)\n",
    "    plt.title('Derivative of fractional flow curve')\n",
    "    plt.xlabel('dfw/dSw')\n",
    "    plt.ylabel('Sw')\n",
    "    plt.show()\n",
    "    \n",
    "BuckleyLev.plot_fractional_flow_deriv=plot_fractional_flow_deriv"
   ]
  },
  {
   "cell_type": "code",
   "execution_count": 10,
   "id": "antique-acquisition",
   "metadata": {},
   "outputs": [],
   "source": [
    "def sw_at_shock_front(self): \n",
    "    #first find range to search in by looking where 2nd derivative is negative (where curve turns)\n",
    "    \n",
    "    sw_start = 1.-self.params['residual_o']\n",
    "    sw_end = self.params['residual_w']\n",
    "    \n",
    "    \n",
    "    for sw in np.arange(self.params['residual_w']+1.e-9, 1.-self.params['residual_o'],0.001):\n",
    "        if (self.fractional_flow_2deriv(sw)< -1.e-2 and sw < sw_start):\n",
    "            #i.e. we are below sw_start and the grad is negative - update upper limit\n",
    "            sw_start = sw\n",
    "        if (self.fractional_flow_2deriv(sw)< -1.e-2 and sw > sw_end):\n",
    "            # i.e. we are above sw_end and the gradient is negative - update lower limit\n",
    "            sw_end = sw\n",
    "        \n",
    "        \n",
    "    sw_at_front = 0.\n",
    "    current_min = 1000.\n",
    "        \n",
    "    #find where finite difference approximation (almost) equals the continuous value of the function\n",
    "    for sw in np.arange(sw_start,sw_end, 0.0001):\n",
    "        \n",
    "        current_diff = abs(self.fractional_flow_deriv(sw)-self.fractional_flow(sw)/sw)\n",
    "        #print( 'grad func',self.fractional_flow_deriv(sw),sw,self.fractional_flow(sw)/sw)\n",
    "        #print('approx',self.fractional_flow(sw)/sw, sw)\n",
    "        if current_diff < current_min:\n",
    "            #print('sw at front',current_min, sw,current_diff)\n",
    "            current_min = current_diff\n",
    "            sw_at_front = sw\n",
    "            \n",
    "            current_min = current_diff\n",
    "                    \n",
    "    return sw_at_front\n",
    "BuckleyLev.sw_at_shock_front = sw_at_shock_front"
   ]
  },
  {
   "cell_type": "code",
   "execution_count": 11,
   "id": "effective-printer",
   "metadata": {},
   "outputs": [],
   "source": [
    "def plot_fractional_flow(self):\n",
    "    #plot the sw vs fractional flow\n",
    "    \n",
    "    #x = np.linspace(self.params[\"residual_w\"]+1e-3,(1-self.params[\"residual_o\"]+1e-3),100)\n",
    "    x = np.linspace(self.params[\"residual_w\"]+1e-3,(1),100)\n",
    "    y = [self.fractional_flow(i) for i in x ]\n",
    "    \n",
    "    plt.plot(x,y)\n",
    "    \n",
    "    #sw_at_front = self.sw_at_shock_front()\n",
    "    #plt.plot([sw_at_front],[self.fractional_flow(sw_at_front)],'ro')\n",
    "    \n",
    "    plt.title('Fractional flow as a function of water saturation')\n",
    "    plt.xlabel('Sw')\n",
    "    plt.ylabel('Fractional flow')\n",
    "    plt.ylim([0,1.1])\n",
    "    plt.xlim([0,1])\n",
    "    \n",
    "    #add limiting fractional flow lines\n",
    "    plt.hlines(y[len(y)-1],0,1,linestyles='dashed',lw=2, colors='0.4')\n",
    "    plt.annotate('fw max: %.4f' % y[len(y)-1],xy=(0.08,0.95))\n",
    "    \n",
    "    \n",
    "    plt.show()\n",
    "    print(y[len(y)-1])\n",
    "    \n",
    "BuckleyLev.plot_fractional_flow = plot_fractional_flow"
   ]
  },
  {
   "cell_type": "code",
   "execution_count": 12,
   "id": "legal-treasury",
   "metadata": {},
   "outputs": [
    {
     "data": {
      "image/png": "[encoded data removed]",
      "text/plain": [
       "<Figure size 432x288 with 1 Axes>"
      ]
     },
     "metadata": {
      "needs_background": "light"
     },
     "output_type": "display_data"
    },
    {
     "name": "stdout",
     "output_type": "stream",
     "text": [
      "0.9999997771565347\n"
     ]
    },
    {
     "data": {
      "image/png": "[encoded data removed]",
      "text/plain": [
       "<Figure size 432x288 with 1 Axes>"
      ]
     },
     "metadata": {
      "needs_background": "light"
     },
     "output_type": "display_data"
    },
    {
     "data": {
      "text/plain": [
       "0.500000001"
      ]
     },
     "execution_count": 12,
     "metadata": {},
     "output_type": "execute_result"
    }
   ],
   "source": [
    "a = BuckleyLev()\n",
    "a.plot_fractional_flow()\n",
    "a.plot_fractional_flow_deriv()\n",
    "a.sw_at_shock_front()"
   ]
  },
  {
   "cell_type": "code",
   "execution_count": 13,
   "id": "fitted-xerox",
   "metadata": {},
   "outputs": [],
   "source": [
    "def displacement_plot(self):\n",
    "    #using the shock front velocity, plot the displacement profile\n",
    "    v_sh = self.sw_at_shock_front()\n",
    "    \n",
    "    y = np.linspace(self.params[\"residual_w\"]+1e-3,(1-self.params[\"residual_o\"]+1e-3),50)\n",
    "    x = [self.fractional_flow_deriv(i) for i in y if self.fractional_flow_deriv(i)>v_sh ]\n",
    "   \n",
    "\n",
    "    return x\n",
    "BuckleyLev.displacement_plot = displacement_plot"
   ]
  },
  {
   "cell_type": "code",
   "execution_count": 14,
   "id": "complex-spyware",
   "metadata": {},
   "outputs": [],
   "source": [
    "def rarefaction_plot(self):\n",
    "    # it should calculate the shock velocity and the corresponding saturation which this occurs an\n",
    "    \n",
    "    #create dx window of increasing size for calculating welge\n",
    "    x = np.linspace(self.params[\"residual_w\"]+1e-3,(1-self.params[\"residual_o\"]+1e-3),50)\n",
    "    \n",
    "    maximum, sw_shock = 0,0\n",
    "    grads = []\n",
    "    \n",
    "    # to do - add flag to allow BL_time function to calcuate sw values from supplied Xd values\n",
    "    ## calculate welge gradient at each point until we find the max = shock velocity\n",
    "    \n",
    "    for swi in x:\n",
    "        grad = self.fractional_flow(swi)/(swi-self.params[\"residual_w\"]+1e-3)\n",
    "        # vd = xd/td\n",
    "        grads.append(grad)\n",
    "      \n",
    "        if grad>maximum:\n",
    "            sw_shock = swi\n",
    "            maximum = grad\n",
    "         \n",
    "    #find the position of the shock velocity in the grads array and slice to this point for the rarefaction \n",
    "    #plus one to include the actual shock velocity. Reverse to get the values in the right order\n",
    "    rarefaction = (grads[:([i for i,j in enumerate(grads) if j == maximum][0]+1)])\n",
    "    rarefaction.sort(reverse=True)\n",
    "\n",
    "    y = x[:(len(rarefaction))]\n",
    "    \n",
    "    #save calculated grads to instance \n",
    "    print(rarefaction[0])\n",
    "    for v in rarefaction:\n",
    "        self.params['vd_array'].append(v)\n",
    "        \n",
    "    #plot rarefaction part \n",
    "    plt.plot(rarefaction,y,'b',lw=2)\n",
    "    \n",
    "    #highlight vshock point\n",
    "    plt.plot(rarefaction[0],y[0],'ro')\n",
    "    \n",
    "    #add the part ahead of the shock front\n",
    "    plt.vlines(rarefaction[0],y[0],self.params[\"initial_sw\"],'b',lw=2)\n",
    "    plt.hlines(self.params[\"initial_sw\"],rarefaction[0],rarefaction[0]+1,'b',lw=2)\n",
    "\n",
    "    #add saturation lines\n",
    "    plt.hlines(self.params[\"initial_sw\"],0,rarefaction[0],linestyles='dashed',lw=2,colors='0.4')\n",
    "    plt.hlines(y[0],0,rarefaction[0],linestyles='dashed',lw=2, colors='0.4')\n",
    "    plt.vlines(rarefaction[0],-2,self.params[\"initial_sw\"],linestyles='dashed',lw=2, colors='0.4')\n",
    "\n",
    "    # add annotations\n",
    "    plt.annotate('V shock',xy=(rarefaction[0]+0.02,y[0]+0.02))\n",
    "    plt.annotate('Sw f',xy=(0+0.04,y[0]-0.05))\n",
    "    plt.annotate('Sw i',xy=(0+0.04,self.params[\"initial_sw\"]-0.05))\n",
    "    \n",
    "    \n",
    "    #ad vdmin if the min velocity values is not zero \n",
    "    if (rarefaction[len(rarefaction)-1]>0.001):\n",
    "        plt.hlines(y[len(y)-1],0,rarefaction[len(rarefaction)-1],'b',lw=2)\n",
    "        plt.plot(rarefaction[len(rarefaction)-1],y[len(y)-1],'ro')\n",
    "        plt.annotate('V min',xy=((rarefaction[len(rarefaction)-1]+0.08),(y[len(y)-1])))\n",
    "        plt.vlines(rarefaction[len(rarefaction)-1],y[len(y)-1],0,linestyles='dashed',lw=2, colors='0.4')\n",
    "        plt.annotate('Sw c',xy=(0+0.04,1-self.params[\"residual_o\"]+0.03))\n",
    "\n",
    "    plt.xlabel('Dimensionless Velocity, Vd = xd/td')\n",
    "    plt.ylabel('Saturation')\n",
    "    \n",
    "    plt.ylim([0,1])\n",
    "    plt.xlim([0,rarefaction[0]+1])\n",
    "    plt.title('Saturation profile velocity')\n",
    "    plt.show()\n",
    "    \n",
    "    \n",
    "BuckleyLev.rarefaction_plot = rarefaction_plot"
   ]
  },
  {
   "cell_type": "code",
   "execution_count": 15,
   "id": "nuclear-advice",
   "metadata": {},
   "outputs": [
    {
     "name": "stdout",
     "output_type": "stream",
     "text": [
      "2.4367691397348614\n"
     ]
    },
    {
     "data": {
      "image/png": "[encoded data removed]",
      "text/plain": [
       "<Figure size 432x288 with 1 Axes>"
      ]
     },
     "metadata": {
      "needs_background": "light"
     },
     "output_type": "display_data"
    },
    {
     "data": {
      "text/plain": [
       "0.500000001"
      ]
     },
     "execution_count": 15,
     "metadata": {},
     "output_type": "execute_result"
    }
   ],
   "source": [
    "a = BuckleyLev()\n",
    "a.rarefaction_plot()\n",
    "a.sw_at_shock_front()"
   ]
  },
  {
   "cell_type": "code",
   "execution_count": 16,
   "id": "together-cleaning",
   "metadata": {},
   "outputs": [
    {
     "data": {
      "image/png": "[encoded data removed]",
      "text/plain": [
       "<Figure size 432x288 with 1 Axes>"
      ]
     },
     "metadata": {
      "needs_background": "light"
     },
     "output_type": "display_data"
    },
    {
     "name": "stdout",
     "output_type": "stream",
     "text": [
      "0.9999997771565347\n"
     ]
    },
    {
     "data": {
      "image/png": "[encoded data removed]",
      "text/plain": [
       "<Figure size 432x288 with 1 Axes>"
      ]
     },
     "metadata": {
      "needs_background": "light"
     },
     "output_type": "display_data"
    }
   ],
   "source": [
    "a.plot_fractional_flow()\n",
    "a.plot_fractional_flow_deriv()"
   ]
  },
  {
   "cell_type": "code",
   "execution_count": 17,
   "id": "informal-central",
   "metadata": {},
   "outputs": [],
   "source": [
    "def porevols_plot(self):\n",
    "    #it should calculate the number of pore volumes injected and plot against td\n",
    "    \n",
    "    #calculate pore volumes injected\n",
    "    Pvi, Swbar = [], []\n",
    "    for v in self.params['vd_array']:\n",
    "        pvi.append(1./v)\n",
    "        \n",
    "    #calculate average water sats"
   ]
  },
  {
   "cell_type": "code",
   "execution_count": 18,
   "id": "accompanied-forest",
   "metadata": {},
   "outputs": [],
   "source": [
    "def BL_time_sol(self,time):\n",
    "    #it should return a function that returns water saturations when supplied by xd values\n",
    "    # time is in days\n",
    "    # q is volumetric flux rate in m3/day.m2\n",
    "    # A is cross sectional area in m2\n",
    "    # poro is frac\n",
    "    \n",
    "            #grad = self.fractional_flow(swi)/(swi-self.params[\"residual_w\"]+1e-3)\n",
    "    \n",
    "    sw_at_front = self.sw_at_shock_front()\n",
    "    sw_deriv_at_front = self.fractional_flow_deriv(sw_at_front)\n",
    "    print('sw_atfront',(sw_at_front))\n",
    "    print('vel at front',sw_deriv_at_front)\n",
    "    #calculate the td based on the time\n",
    "    td = (time*self.params['inject_rate'])/self.params['poro']*self.params['x-area']\n",
    "    \n",
    "    #then use this to calculate the xd at shock front by x with dfw/dsw\n",
    "    xd_shock = sw_deriv_at_front*td\n",
    "\n",
    "    print('xd_shock',xd_shock)\n",
    "    #now work backwards, calculate xd values for each water saturation \n",
    "    \n",
    "    #setup the water saturation array \n",
    "    y = np.arange(1.-self.params[\"residual_o\"],sw_at_front,-0.001)\n",
    "    \n",
    "    \n",
    "    np.append(y,sw_at_front)\n",
    "    #y.append(sw_at_front)\n",
    "    #print('y',y)\n",
    "    \n",
    "    x = [self.fractional_flow_deriv(sw) for sw in y]\n",
    "    #multiply by td to account for time\n",
    "\n",
    "    x2 = [xi*td for xi in x]\n",
    "  \n",
    "    \n",
    "    #interpolate will return a function that returns a y for a given x, note x must be monotomically increasing\n",
    "    #print('x',x,'y',y)\n",
    "    sat_behind_front = interpolate.interp1d(sorted(x2),y)\n",
    "    \n",
    "    #return the function to be called later, note check to see if we are behind the shock front at the given x\n",
    "    def saturation_at_xd(xd):\n",
    "        if xd<xd_shock:\n",
    "            return sat_behind_front(xd)\n",
    "        else:\n",
    "            return self.params['initial_sw']\n",
    "        \n",
    "    return (saturation_at_xd)\n",
    "\n",
    "BuckleyLev.BL_time_sol = BL_time_sol"
   ]
  },
  {
   "cell_type": "code",
   "execution_count": 19,
   "id": "sound-uganda",
   "metadata": {},
   "outputs": [
    {
     "name": "stdout",
     "output_type": "stream",
     "text": [
      "sw_atfront 0.500000001\n",
      "vel at front 0.12037124871200518\n",
      "xd_shock 902.7843653400388\n"
     ]
    },
    {
     "data": {
      "text/plain": [
       "0.2"
      ]
     },
     "execution_count": 19,
     "metadata": {},
     "output_type": "execute_result"
    }
   ],
   "source": [
    "a = BuckleyLev()\n",
    "b = a.BL_time_sol(3)\n",
    "\n",
    "b(980)"
   ]
  },
  {
   "cell_type": "code",
   "execution_count": 21,
   "id": "supreme-appendix",
   "metadata": {},
   "outputs": [
    {
     "data": {
      "text/plain": [
       "0.500000001"
      ]
     },
     "execution_count": 21,
     "metadata": {},
     "output_type": "execute_result"
    }
   ],
   "source": [
    "a.sw_at_shock_front()"
   ]
  },
  {
   "cell_type": "markdown",
   "id": "engaged-warner",
   "metadata": {},
   "source": [
    "# 1.2 Relative permeability models"
   ]
  },
  {
   "cell_type": "markdown",
   "id": "impressive-tobago",
   "metadata": {},
   "source": [
    "### Two widely used **relative permeability models** were considered for the Buckley-Leverett (Eq. 1): \n"
   ]
  },
  {
   "cell_type": "markdown",
   "id": "similar-purpose",
   "metadata": {},
   "source": [
    "###  a) The Chierici’s relative permeability model "
   ]
  },
  {
   "cell_type": "markdown",
   "id": "irish-walnut",
   "metadata": {},
   "source": [
    "**Eq. 5**\n",
    "\\begin{equation}\n",
    "\\kappa_{r w}=\\kappa_{w}^{0} e^{-B\\left(\\frac{S_{w}-S_{w 0}}{1-S_{w}-S_{o 0}}\\right)^{-M}}\n",
    "\\quad \\kappa_{r o}=\\kappa_{o}^{0} e^{-A\\left(\\frac{S_{w}-S_{w 0}}{1-S_{w}-S_{o 0}}\\right)^{L}}\n",
    "\\end{equation}"
   ]
  },
  {
   "cell_type": "markdown",
   "id": "leading-europe",
   "metadata": {},
   "source": [
    "where \n",
    "\n",
    "- **A**, **L**, **B** and **M** - parameters for the relative permeabilities"
   ]
  },
  {
   "cell_type": "markdown",
   "id": "aggregate-blade",
   "metadata": {},
   "source": [
    "###  b) The LET relative permeability model "
   ]
  },
  {
   "cell_type": "markdown",
   "id": "trained-astrology",
   "metadata": {},
   "source": [
    "**Eq. 6**\n",
    "\\begin{equation}\n",
    "\\kappa_{r w}=\\kappa_{w}^{0} \\frac{S_{w e}^{L_{w}}}{S_{w e}^{L_{w}}+E_{w}\\left(1-S_{w e}\\right)^{T_{w}}} \\quad \\kappa_{r o}=\\kappa_{o}^{0} \\frac{\\left(1-S_{w e}\\right)^{L_{o}}}{\\left(1-S_{w e}\\right)^{L_{o}}+E_{o} S_{w e}^{T_{o}}}\n",
    "\\end{equation}"
   ]
  },
  {
   "cell_type": "markdown",
   "id": "advance-canyon",
   "metadata": {},
   "source": [
    "where \n",
    "\n",
    "- **Lw**, **Ew**, **Tw**, **Lo**, **Eo**, and **To** - parameters of the model  (**w** - water phase and **o** - oil phase)"
   ]
  },
  {
   "cell_type": "markdown",
   "id": "convinced-characteristic",
   "metadata": {},
   "source": [
    "**Swe** - effective water saturation calculated as:\n",
    "\n",
    "**Eq. 7**\n",
    "\n",
    "\\begin{equation}\n",
    "S_{w e}=\\frac{S_{w}-S_{w 0}}{1-S_{w 0}-S_{o 0}}\n",
    "\\end{equation}"
   ]
  },
  {
   "cell_type": "markdown",
   "id": "backed-sheep",
   "metadata": {},
   "source": [
    "where \n",
    "\n",
    "- **Sw0** - connate water saturation, \n",
    "\n",
    "- **So0** the residual oil saturation, \n",
    "\n",
    "- **𝜅0o** - oil relative permeability at the connate water saturation, \n",
    "\n",
    "- **𝜅0𝑤** - water relative permeability at the residual oil saturation"
   ]
  },
  {
   "cell_type": "markdown",
   "id": "adaptive-crossing",
   "metadata": {},
   "source": [
    "# 1.3 Datasets "
   ]
  },
  {
   "cell_type": "markdown",
   "id": "voluntary-curve",
   "metadata": {},
   "source": [
    "!разобраться откуда какие данные!"
   ]
  },
  {
   "cell_type": "markdown",
   "id": "informative-relations",
   "metadata": {},
   "source": [
    "# 1.4 Input parameters and quantities of interest"
   ]
  },
  {
   "cell_type": "markdown",
   "id": "ambient-telephone",
   "metadata": {},
   "source": [
    "To perform UQ and SA studies we must define a set of input parameters θ and relevant **quantities of interest (QoIs)**:"
   ]
  },
  {
   "cell_type": "markdown",
   "id": "rocky-lying",
   "metadata": {},
   "source": [
    "### a) For Chierici’s model the input parameters:"
   ]
  },
  {
   "cell_type": "markdown",
   "id": "focal-apollo",
   "metadata": {},
   "source": [
    "\\begin{equation}\n",
    "θ_{c}={({B; M; A; L})}\n",
    "\\end{equation}"
   ]
  },
  {
   "cell_type": "markdown",
   "id": "descending-donna",
   "metadata": {},
   "source": [
    "### b) For LET model the input parameters:"
   ]
  },
  {
   "cell_type": "markdown",
   "id": "appropriate-absolute",
   "metadata": {},
   "source": [
    "\\begin{equation}\n",
    "θ_{c}={({L_{w},E_{w},T_{w},L_{o},E_{o},T_{o}})}\n",
    "\\end{equation}"
   ]
  },
  {
   "cell_type": "markdown",
   "id": "welsh-uniform",
   "metadata": {},
   "source": [
    "### The following **QoIs** were considered in this study: \n",
    "\n",
    "**Scpt** - relative permeability crossing point, \n",
    "\n",
    "**Eq. 8**\n",
    "\n",
    "\\begin{equation}\n",
    "\\kappa_{r w}\\left(S_{c p t}\\right)-\\kappa_{r o}\\left(S_{c p t}\\right)=0\n",
    "\\end{equation}\n",
    "\n",
    "**S𝑓** -shock front saturation,\n",
    "\n",
    "**Eq. 9**\n",
    "\n",
    "\\begin{equation}\n",
    "\\frac{\\partial f\\left(S_{f}\\right)}{\\partial S_{w}}\\left(S_{f}-S_{w 0}\\right)-f\\left(S_{f}\\right)=0\n",
    "\\end{equation}\n",
    "\n",
    "\n",
    "**V(t)** - displaced oil at a fixed time\n",
    "\n",
    "**Eq. 10**\n",
    "\n",
    "\\begin{equation}\n",
    "V(t)=a \\int_{0}^{t} q\\left(1-f\\left(S_{w}(L, \\tau)\\right)\\right) d \\tau\n",
    "\\end{equation}"
   ]
  },
  {
   "cell_type": "markdown",
   "id": "falling-senior",
   "metadata": {},
   "source": [
    "where \n",
    "\n",
    "- **f(Sw(L,𝜏)** - fractional flow function evaluated at any time instant **τ** and at the position **x=L** which, corresponds to the size of the core sample."
   ]
  },
  {
   "cell_type": "markdown",
   "id": "hundred-hawaiian",
   "metadata": {},
   "source": [
    "The datasets and the simulations performed in this work focus on core-scale experiments. QoIs used in this work were chosen considering their relevance to both core-scale and field-scale experiments. For instance, the crossing point saturation **Scpt** and the shock front saturation **S𝑓** are essential indicators of the performance for both mature or new reservoirs."
   ]
  },
  {
   "cell_type": "markdown",
   "id": "typical-flashing",
   "metadata": {},
   "source": [
    "# 1.5 Parameter and distribution estimation"
   ]
  },
  {
   "cell_type": "markdown",
   "id": "durable-villa",
   "metadata": {},
   "source": [
    "For each relative permeability model (Chierici and LET) we performed a parameter estimation based on the presented datasets using the **Markov Chain Monte Carlo (MCMC) method**. \n",
    "\n",
    "**(MCMC implemented in emcee library, implemented in the lmfit package, was used to obtain an initial guess for the relative permeability model parameters required for the MCMC).**"
   ]
  },
  {
   "cell_type": "markdown",
   "id": "hazardous-contact",
   "metadata": {},
   "source": [
    "### Assuming θ as the relative permeability model parameters and D as the dataset, MCMC tries to estimate:"
   ]
  },
  {
   "cell_type": "markdown",
   "id": "thrown-manner",
   "metadata": {},
   "source": [
    "**Eq. 11**\n",
    "\n",
    "\\begin{equation}\n",
    "\\mathbb{P}(\\boldsymbol{\\theta} \\mid D)=\\frac{\\mathbb{P}(\\boldsymbol{D} \\mid \\boldsymbol{\\theta}) \\mathbb{P}(\\boldsymbol{\\theta})}{\\mathbb{P}(D)}\n",
    "\\end{equation}"
   ]
  },
  {
   "cell_type": "markdown",
   "id": "great-amino",
   "metadata": {},
   "source": [
    "where \n",
    "\n",
    "- **ℙ(𝜽)** - prior knowledge about the input parameters **θ** - joint probability distribution, \n",
    "\n",
    "- **ℙ(𝑫∣𝜽)** - likelihood function, \n",
    "\n",
    "- **ℙ(𝐷)** - evidence that the data was generated by this model. "
   ]
  },
  {
   "cell_type": "markdown",
   "id": "gross-warrant",
   "metadata": {},
   "source": [
    "In **Eq. 11** - likelihood function:\n",
    "\n",
    "**Eq. 12**\n",
    "\n",
    "\\begin{equation}\n",
    "\\ln (\\mathbb{P}(D \\mid \\boldsymbol{\\theta}))=-0.5 \\sum_{i}^{N_{d}}\\left[\\left(\\frac{D^{i}-y^{i}(\\boldsymbol{\\theta})}{\\sigma^{i}}\\right)^{2}+2 \\log \\left(\\sigma^{i}\\right)\\right]\n",
    "\\end{equation}"
   ]
  },
  {
   "cell_type": "markdown",
   "id": "automatic-analyst",
   "metadata": {},
   "source": [
    "where \n",
    "\n",
    "- **Nd** - size of the dataset, \n",
    "\n",
    "- **𝜎𝑖** represents the error values, \n",
    "\n",
    "- **𝑦𝑖(𝜽)** - entry of the vector representing the relative permeability model evaluated at the sample parameters **θ**."
   ]
  },
  {
   "cell_type": "markdown",
   "id": "saved-romania",
   "metadata": {},
   "source": [
    "The MCMC method requires the definition of a prior distribution - **flat prior distributions:**"
   ]
  },
  {
   "cell_type": "markdown",
   "id": "clean-harvard",
   "metadata": {},
   "source": [
    "**Eq. 13**\n",
    "\n",
    "\\begin{equation}\n",
    "\\ln (\\mathbb{P}(\\boldsymbol{\\theta}))=\\{\\text { 0if all entries of } \\boldsymbol{\\theta} \\in \\mathbb{R}>0\n",
    "\\end{equation}"
   ]
  },
  {
   "cell_type": "markdown",
   "id": "studied-typing",
   "metadata": {},
   "source": [
    "-∞ elsewhere."
   ]
  },
  {
   "cell_type": "markdown",
   "id": "prospective-chocolate",
   "metadata": {},
   "source": [
    "# 2.1 Uncertainty quantification"
   ]
  },
  {
   "cell_type": "markdown",
   "id": "mineral-tiffany",
   "metadata": {},
   "source": [
    "# 3.1 Sensitivity analysis"
   ]
  },
  {
   "cell_type": "code",
   "execution_count": null,
   "id": "looking-silly",
   "metadata": {},
   "outputs": [],
   "source": [
    "#pip install SAlib\n",
    "\n",
    "def function(x,y,z,sw,s0):\n",
    "    \"\"\"\n",
    "    main function\n",
    "    \n",
    "    \"\"\"\n",
    "    return results\n",
    "\n"
   ]
  }
 ],
 "metadata": {
  "kernelspec": {
   "display_name": "Python 3",
   "language": "python",
   "name": "python3"
  },
  "language_info": {
   "codemirror_mode": {
    "name": "ipython",
    "version": 3
   },
   "file_extension": ".py",
   "mimetype": "text/x-python",
   "name": "python",
   "nbconvert_exporter": "python",
   "pygments_lexer": "ipython3",
   "version": "3.8.5"
  }
 },
 "nbformat": 4,
 "nbformat_minor": 5
}
